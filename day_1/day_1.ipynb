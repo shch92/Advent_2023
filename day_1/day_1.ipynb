{
 "cells": [
  {
   "cell_type": "markdown",
   "metadata": {},
   "source": [
    "For Day 1 part 1 here is the problem:\n",
    "\n",
    "In short the problem is such that any numbers in the string need to be extracted with the first and last numbers being key for each line. If there is only one number in a code then it is repeated twice. these numbers are then added up for the final value to submit. The detailed intro can be found on AoC website, day 1 [here](https://adventofcode.com/2023)\n",
    "\n",
    "For example:  \n",
    "\n",
    "23adflkj  \n",
    "asdf1ljlkj3  \n",
    "12ljdf4jjlkfi9  \n",
    "asdf9dfas  \n",
    "\n",
    "In this example, the calibration values of these four lines are 23, 13, 19, and 99. Adding these together produces 154.\n",
    "(Please check the README for getting the data files)\n",
    "\n",
    "Let's start by loading the data using the text file and pandas."
   ]
  },
  {
   "cell_type": "code",
   "execution_count": 1,
   "metadata": {},
   "outputs": [],
   "source": [
    "#Load relevant library\n",
    "import pandas as pd"
   ]
  },
  {
   "cell_type": "markdown",
   "metadata": {},
   "source": [
    "Use Pandas to read the data. "
   ]
  },
  {
   "cell_type": "code",
   "execution_count": 2,
   "metadata": {},
   "outputs": [],
   "source": [
    "# Add a list of column names which in this case is just one\n",
    "col = ['words']\n",
    "\n",
    "# Read in the data with the appropriate delimiter (space) and the column header\n",
    "df = pd.read_csv(\"data/day_1_source.txt\", sep=\" \", names=(col))"
   ]
  },
  {
   "cell_type": "markdown",
   "metadata": {},
   "source": [
    "The data will look at the dataframe and use simple libraries (such as numpy and pandas), to extract the codes."
   ]
  },
  {
   "cell_type": "code",
   "execution_count": 3,
   "metadata": {},
   "outputs": [
    {
     "data": {
      "text/html": [
       "<div>\n",
       "<style scoped>\n",
       "    .dataframe tbody tr th:only-of-type {\n",
       "        vertical-align: middle;\n",
       "    }\n",
       "\n",
       "    .dataframe tbody tr th {\n",
       "        vertical-align: top;\n",
       "    }\n",
       "\n",
       "    .dataframe thead th {\n",
       "        text-align: right;\n",
       "    }\n",
       "</style>\n",
       "<table border=\"1\" class=\"dataframe\">\n",
       "  <thead>\n",
       "    <tr style=\"text-align: right;\">\n",
       "      <th></th>\n",
       "      <th>words</th>\n",
       "    </tr>\n",
       "  </thead>\n",
       "  <tbody>\n",
       "    <tr>\n",
       "      <th>0</th>\n",
       "      <td>ckmb52fldxkseven3fkjgcbzmnr7</td>\n",
       "    </tr>\n",
       "    <tr>\n",
       "      <th>1</th>\n",
       "      <td>gckhqpb6twoqnjxqplthree2fourkspnsnzxlz1</td>\n",
       "    </tr>\n",
       "    <tr>\n",
       "      <th>2</th>\n",
       "      <td>2onetwocrgbqm7</td>\n",
       "    </tr>\n",
       "    <tr>\n",
       "      <th>3</th>\n",
       "      <td>frkh2nineqmqxrvdsevenfive</td>\n",
       "    </tr>\n",
       "    <tr>\n",
       "      <th>4</th>\n",
       "      <td>four9two</td>\n",
       "    </tr>\n",
       "  </tbody>\n",
       "</table>\n",
       "</div>"
      ],
      "text/plain": [
       "                                     words\n",
       "0             ckmb52fldxkseven3fkjgcbzmnr7\n",
       "1  gckhqpb6twoqnjxqplthree2fourkspnsnzxlz1\n",
       "2                           2onetwocrgbqm7\n",
       "3                frkh2nineqmqxrvdsevenfive\n",
       "4                                 four9two"
      ]
     },
     "execution_count": 3,
     "metadata": {},
     "output_type": "execute_result"
    }
   ],
   "source": [
    "# Sanity check by looking at the first 5 rows of data\n",
    "df.head()"
   ]
  },
  {
   "cell_type": "markdown",
   "metadata": {},
   "source": [
    "We can also check the total number of rows in the dataset."
   ]
  },
  {
   "cell_type": "code",
   "execution_count": 4,
   "metadata": {},
   "outputs": [
    {
     "data": {
      "text/plain": [
       "(1000, 1)"
      ]
     },
     "execution_count": 4,
     "metadata": {},
     "output_type": "execute_result"
    }
   ],
   "source": [
    "# Use shape to find the number of rows\n",
    "df.shape"
   ]
  },
  {
   "cell_type": "markdown",
   "metadata": {},
   "source": [
    "The `df` has a 1000 rows therefore we will have a 1000 coordinates that we need in the end. We can create a list out of the `df` to further work with the data."
   ]
  },
  {
   "cell_type": "code",
   "execution_count": 5,
   "metadata": {},
   "outputs": [
    {
     "data": {
      "text/plain": [
       "1000"
      ]
     },
     "execution_count": 5,
     "metadata": {},
     "output_type": "execute_result"
    }
   ],
   "source": [
    "# Create an empty list\n",
    "list_df = []\n",
    "\n",
    "# Create a for loop to add the words to the list\n",
    "for word in df['words']:\n",
    "    list_df.append(word)\n",
    "\n",
    "# Sanity check length of list to ensure its 1000\n",
    "len(list_df)"
   ]
  },
  {
   "cell_type": "markdown",
   "metadata": {},
   "source": [
    "Now we can extract the numbers by creating another for loop that goes through each element in the list and only extracts all the numbers and appends it to the new list."
   ]
  },
  {
   "cell_type": "code",
   "execution_count": 6,
   "metadata": {},
   "outputs": [
    {
     "name": "stdout",
     "output_type": "stream",
     "text": [
      "The data in the my_dict looks like:\n",
      "{'ckmb52fldxkseven3fkjgcbzmnr7': '5237', 'gckhqpb6twoqnjxqplthree2fourkspnsnzxlz1': '621', '2onetwocrgbqm7': '27', 'frkh2nineqmqxrvdsevenfive': '2', 'four9two': '9'}\n",
      "The data in the my_list looks like ['5237', '621', '27', '2', '9']\n",
      "As with last time we can check that we are getting 1000 rows of information in the Dictionary. The total rows of information in the Dictionary and List are: 1000, and 1000\n"
     ]
    }
   ],
   "source": [
    "# Instantiate empty dictionary and list for later use to hold the numbers being extracted\n",
    "my_dict = {}\n",
    "my_list = []\n",
    "\n",
    "# For each element in the list\n",
    "for element in list_df:\n",
    "\n",
    "    # Separate each letter and number out by itself\n",
    "    split_word = ([*element])\n",
    "\n",
    "    # Instantiate a key in for each element\n",
    "    my_dict[element] = \"\"\n",
    "\n",
    "    # Loop through each letter in the word\n",
    "    for number in split_word:\n",
    "\n",
    "        # Only continue if a number is recognised\n",
    "        if number.isdigit():\n",
    "\n",
    "            # Add the number as a value to the dictionary Key where the key is the entire element name\n",
    "            my_dict[element] += number\n",
    "    \n",
    "    # Append all the final numbers to the list\n",
    "    my_list.append(my_dict[element])\n",
    "\n",
    "# Print the Dictionary and list with which we will work next\n",
    "print(f\"The data in the my_dict looks like:\")\n",
    "print({k: my_dict[k] for k in list(my_dict)[:5]})\n",
    "print(f\"The data in the my_list looks like {my_list[0:5]}\")\n",
    "print(f\"As with last time we can check that we are getting 1000 rows of information in the Dictionary. The total rows of information in the Dictionary and List are: {len(my_dict.items())}, and {len(my_list)}\")\n",
    "\n",
    "\n",
    "\n",
    "            "
   ]
  },
  {
   "cell_type": "markdown",
   "metadata": {},
   "source": [
    "We can see above that the `my_list` now holds the numbers for each code. We can now start the next operation where we will Only extract the first and last numbers from each one of the elements. Note that if there is only 1 number in the code then the number will be repeated."
   ]
  },
  {
   "cell_type": "code",
   "execution_count": 7,
   "metadata": {},
   "outputs": [
    {
     "name": "stdout",
     "output_type": "stream",
     "text": [
      "The data in the final_dict looks like:\n",
      "{'5237': '57', '621': '61', '27': '27', '2': '22', '9': '99'}\n",
      "The data in the my_list looks like ['57', '61', '27', '22', '99']\n",
      "The length of the final list of numbers should be 1000. Let's see if this matches with the value we got of: 1000\n",
      "_________________________________________________________________\n",
      "The final answer to the First part of Day 1 is: 53386\n",
      "_________________________________________________________________\n"
     ]
    }
   ],
   "source": [
    "# Instantiate empty final list, dictionary and value for later use to hold the numbers being extracted\n",
    "final_dict = {}\n",
    "final_list = []\n",
    "final_value = 0\n",
    "\n",
    "\n",
    "# For each number in the list\n",
    "for number in my_list:\n",
    "\n",
    "    # Instantiate each key in dict\n",
    "    final_dict[number] = ''\n",
    "\n",
    "    # Separate each number out by itself\n",
    "    split_number= ([*number])\n",
    "\n",
    "    # Ensure that if the number is the only one in the code then it needs to be taken twice i.e. 7 means the total number is 77 as it is a string \n",
    "    if len(split_number) == 1:\n",
    "        final_dict[number] += split_number[0]*2\n",
    "\n",
    "    # Take the first and last number out of each dictionary value\n",
    "    else:\n",
    "        length = len(split_number)\n",
    "        final_dict[number] += split_number[0]\n",
    "        final_dict[number] += split_number[length-1]\n",
    "\n",
    "# Append all the vaules in the dictionary to a list so they can be summed \n",
    "    final_list.append(final_dict[number])\n",
    "\n",
    "# Start the for loop to extract the final numbers and add them\n",
    "for number in final_list:\n",
    "    \n",
    "    # Convert the numbers to integers as they are currently string data type and cannot be added\n",
    "    number = int(number)\n",
    "\n",
    "    # Add all the numerical values\n",
    "    final_value += number\n",
    "\n",
    "print(f\"The data in the final_dict looks like:\")\n",
    "print({k: final_dict[k] for k in list(final_dict)[:5]})\n",
    "print(f\"The data in the my_list looks like {final_list[0:5]}\")\n",
    "print(f\"The length of the final list of numbers should be 1000. Let's see if this matches with the value we got of: {len(final_list)}\")\n",
    "print(\"_________________________________________________________________\")\n",
    "print(f\"The final answer to the First part of Day 1 is: {final_value}\")\n",
    "print(\"_________________________________________________________________\")\n"
   ]
  },
  {
   "cell_type": "markdown",
   "metadata": {},
   "source": [
    "The answer above is correct which leads to the second part of day 1 puzzle. This is given below:\n"
   ]
  },
  {
   "cell_type": "markdown",
   "metadata": {},
   "source": [
    "A more efficient way done by Neil Thistlethwaite in [this video](https://www.youtube.com/watch?v=R8qGPFRksCY&t=473s&ab_channel=NeilThistlethwaite) :"
   ]
  },
  {
   "cell_type": "code",
   "execution_count": 8,
   "metadata": {},
   "outputs": [
    {
     "name": "stdout",
     "output_type": "stream",
     "text": [
      "______________________________________________________________________________________________________\n",
      "The final answer to the First part of Day 1 with Neil Thistlethwaite's method is: 53386\n",
      "______________________________________________________________________________________________________\n"
     ]
    }
   ],
   "source": [
    "# Opening data using file stream where you open the txt file as a variable. In this place the f is opening the whole file\n",
    "with open(\"data/day_1_source.txt\") as f:\n",
    "\n",
    "    # Reading in the file as variable s\n",
    "    s = f.read()\n",
    "\n",
    "# Instantiating variable which will be used to add all values in the end\n",
    "r = 0\n",
    "\n",
    "# Separate each line in variable s and strip it to remove trailing spaces and separate it by line\n",
    "for x in s.strip().split(\"\\n\"):\n",
    "\n",
    "    # Instantiate first and last variables to fill with first and last numbers\n",
    "    fst = None\n",
    "    lst = None\n",
    "\n",
    "    # For each letter in the line\n",
    "    for y in x:\n",
    "\n",
    "        # Check if the letter is a digit\n",
    "        if y.isdigit():\n",
    "\n",
    "            # If the letter is a digit then make it the last digit automatically (this ensures that any final numbers automatically become last digit)\n",
    "            lst = y\n",
    "\n",
    "            # Automatically make the first digit y and don't overwrite it as it won't be None second iteration onwards\n",
    "            if fst is None:\n",
    "                fst = y\n",
    "\n",
    "    # Add all the first and last variables\n",
    "    r += int(fst + lst)\n",
    "print(\"______________________________________________________________________________________________________\")\n",
    "print(f\"The final answer to the First part of Day 1 with Neil Thistlethwaite's method is: {final_value}\")\n",
    "print(\"______________________________________________________________________________________________________\")\n",
    "\n"
   ]
  },
  {
   "cell_type": "markdown",
   "metadata": {},
   "source": [
    "Above is a much faster and more efficient code method not requiring any external libraries.\n",
    "\n",
    "Let's move on to part 2."
   ]
  },
  {
   "cell_type": "markdown",
   "metadata": {},
   "source": [
    "\n",
    "--- Part Two ---  \n",
    "The calculation needs to be changed as there are hidden numbers in the text. For example:  \n",
    "\n",
    "ljjltwo9  \n",
    "eighadsfjtwoadfdsathree  \n",
    "abc12txyzthree  \n",
    "\n",
    "So with this the values are 19, 83, 13. These can be added to  115\n",
    "\n",
    "Now that we have a better understanding of the more efficient code, we will use this for improving upon. However, a lot of this is still stemming from the video above."
   ]
  },
  {
   "cell_type": "code",
   "execution_count": 9,
   "metadata": {},
   "outputs": [
    {
     "name": "stdout",
     "output_type": "stream",
     "text": [
      "_________________________________________________________________________________________________________\n",
      "The final answer to the Second part of Day 1 with Neil Thistlethwaite's method is: 53386\n",
      "_________________________________________________________________________________________________________\n"
     ]
    }
   ],
   "source": [
    "# Instantiate empty dictionary and list for later use to hold the numbers being extracted\n",
    "my_dict = {}\n",
    "my_list = []\n",
    "\n",
    "# Create a HashMap which can help us replace words with numbers\n",
    "ref = {'zero':0, 'one':1, 'two':2, 'three':3, 'four':4, 'five':5, 'six':6, 'seven':7, 'eight':8, 'nine':9}\n",
    "\n",
    "\n",
    "with open(\"data/day_1_source.txt\") as f:\n",
    "\n",
    "    # Reading in the file as variable s\n",
    "    s = f.read()\n",
    "\n",
    "    # Start a counter for total\n",
    "    total = 0\n",
    "\n",
    "    # Separate each line in variable s and strip it to remove trailing spaces and separate it by line\n",
    "    for x in s.strip().split(\"\\n\"):\n",
    "\n",
    "        # Instatntiate variables for first and last numbers and and empty string\n",
    "        fst = None\n",
    "        lst = None\n",
    "        new_ch = \"\"\n",
    "\n",
    "        # For each character in each element\n",
    "        for ch in x:\n",
    "\n",
    "            # Instantiate an empty variable that will hold any recognized numbers\n",
    "            num = None\n",
    "\n",
    "            # If character is digit \n",
    "            if ch.isdigit():\n",
    "\n",
    "                # The number becomes the character\n",
    "                num = ch\n",
    "\n",
    "            # Otherwise add the letter to a character list\n",
    "            else:\n",
    "                new_ch += ch\n",
    "\n",
    "                # Look into the hashmap for all the added string of characters\n",
    "                for k, v in ref.items():\n",
    "\n",
    "                    # If the characters end with the word equivalent of a number\n",
    "                    if new_ch.endswith(k):\n",
    "\n",
    "                        # Replace the word with number \n",
    "                        num = str(v)\n",
    "            \n",
    "            # If number is not None \n",
    "            if num is not None:\n",
    "\n",
    "                # # If the letter is a digit then make it the last digit automatically (this ensures that any final numbers automatically become last digit)\n",
    "                lst = num\n",
    "\n",
    "                # Automatically make the first digit y and don't overwrite it as it won't be None second iteration onwards\n",
    "                if fst is None:\n",
    "                    fst = lst\n",
    "\n",
    "        # Add all the values together\n",
    "        total += int(fst + lst)\n",
    "\n",
    "    # Print the total\n",
    "    print(\"_________________________________________________________________________________________________________\")\n",
    "    print(f\"The final answer to the Second part of Day 1 with Neil Thistlethwaite's method is: {final_value}\")\n",
    "    print(\"_________________________________________________________________________________________________________\")\n"
   ]
  },
  {
   "cell_type": "markdown",
   "metadata": {},
   "source": [
    "The above answer is correct and has been taken from Neil Thistlethwaite's Youtube as given above. It helped with understanding more efficient coding methodology. "
   ]
  }
 ],
 "metadata": {
  "kernelspec": {
   "display_name": "Python 3",
   "language": "python",
   "name": "python3"
  },
  "language_info": {
   "codemirror_mode": {
    "name": "ipython",
    "version": 3
   },
   "file_extension": ".py",
   "mimetype": "text/x-python",
   "name": "python",
   "nbconvert_exporter": "python",
   "pygments_lexer": "ipython3",
   "version": "3.9.12"
  }
 },
 "nbformat": 4,
 "nbformat_minor": 2
}
