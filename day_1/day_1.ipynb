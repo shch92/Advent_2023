{
 "cells": [
  {
   "cell_type": "markdown",
   "metadata": {},
   "source": [
    "For Day 1 part 1 here is the problem:\n",
    "\n",
    "In short the problem is such that any numbers in the string need to be extracted with the first and last numbers being key for each line. If there is only one number in a code then it is repeated twice. these numbers are then added up for the final value to submit. The detailed intro can be found on AoC website, day 1 [here](https://adventofcode.com/2023)\n",
    "\n",
    "For example:  \n",
    "\n",
    "23adflkj  \n",
    "asdf1ljlkj3  \n",
    "12ljdf4jjlkfi9  \n",
    "asdf9dfas  \n",
    "\n",
    "In this example, the calibration values of these four lines are 23, 13, 19, and 99. Adding these together produces 154.\n",
    "(Please check the README for getting the data files)\n",
    "\n",
    "Let's start by loading the data using the text file and pandas."
   ]
  },
  {
   "cell_type": "code",
   "execution_count": 1,
   "metadata": {},
   "outputs": [],
   "source": [
    "#Load relevant library\n",
    "import pandas as pd"
   ]
  },
  {
   "cell_type": "markdown",
   "metadata": {},
   "source": [
    "Use Pandas to read the data. "
   ]
  },
  {
   "cell_type": "code",
   "execution_count": 2,
   "metadata": {},
   "outputs": [],
   "source": [
    "# Add a list of column names which in this case is just one\n",
    "col = ['words']\n",
    "\n",
    "# Read in the data with the appropriate delimiter (space) and the column header\n",
    "df = pd.read_csv(\"data/day_1_source.txt\", sep=\" \", names=(col))"
   ]
  },
  {
   "cell_type": "markdown",
   "metadata": {},
   "source": [
    "The data will look at the dataframe and use simple libraries (such as numpy and pandas), to extract the codes."
   ]
  },
  {
   "cell_type": "code",
   "execution_count": 3,
   "metadata": {},
   "outputs": [
    {
     "data": {
      "text/html": [
       "<div>\n",
       "<style scoped>\n",
       "    .dataframe tbody tr th:only-of-type {\n",
       "        vertical-align: middle;\n",
       "    }\n",
       "\n",
       "    .dataframe tbody tr th {\n",
       "        vertical-align: top;\n",
       "    }\n",
       "\n",
       "    .dataframe thead th {\n",
       "        text-align: right;\n",
       "    }\n",
       "</style>\n",
       "<table border=\"1\" class=\"dataframe\">\n",
       "  <thead>\n",
       "    <tr style=\"text-align: right;\">\n",
       "      <th></th>\n",
       "      <th>words</th>\n",
       "    </tr>\n",
       "  </thead>\n",
       "  <tbody>\n",
       "    <tr>\n",
       "      <th>0</th>\n",
       "      <td>ckmb52fldxkseven3fkjgcbzmnr7</td>\n",
       "    </tr>\n",
       "    <tr>\n",
       "      <th>1</th>\n",
       "      <td>gckhqpb6twoqnjxqplthree2fourkspnsnzxlz1</td>\n",
       "    </tr>\n",
       "    <tr>\n",
       "      <th>2</th>\n",
       "      <td>2onetwocrgbqm7</td>\n",
       "    </tr>\n",
       "    <tr>\n",
       "      <th>3</th>\n",
       "      <td>frkh2nineqmqxrvdsevenfive</td>\n",
       "    </tr>\n",
       "    <tr>\n",
       "      <th>4</th>\n",
       "      <td>four9two</td>\n",
       "    </tr>\n",
       "  </tbody>\n",
       "</table>\n",
       "</div>"
      ],
      "text/plain": [
       "                                     words\n",
       "0             ckmb52fldxkseven3fkjgcbzmnr7\n",
       "1  gckhqpb6twoqnjxqplthree2fourkspnsnzxlz1\n",
       "2                           2onetwocrgbqm7\n",
       "3                frkh2nineqmqxrvdsevenfive\n",
       "4                                 four9two"
      ]
     },
     "execution_count": 3,
     "metadata": {},
     "output_type": "execute_result"
    }
   ],
   "source": [
    "# Sanity check by looking at the first 5 rows of data\n",
    "df.head()"
   ]
  },
  {
   "cell_type": "markdown",
   "metadata": {},
   "source": [
    "We can also check the total number of rows in the dataset."
   ]
  },
  {
   "cell_type": "code",
   "execution_count": 4,
   "metadata": {},
   "outputs": [
    {
     "data": {
      "text/plain": [
       "(1000, 1)"
      ]
     },
     "execution_count": 4,
     "metadata": {},
     "output_type": "execute_result"
    }
   ],
   "source": [
    "# Use shape to find the number of rows\n",
    "df.shape"
   ]
  },
  {
   "cell_type": "markdown",
   "metadata": {},
   "source": [
    "The `df` has a 1000 rows therefore we will have a 1000 coordinates that we need in the end. We can create a list out of the `df` to further work with the data."
   ]
  },
  {
   "cell_type": "code",
   "execution_count": 5,
   "metadata": {},
   "outputs": [
    {
     "data": {
      "text/plain": [
       "1000"
      ]
     },
     "execution_count": 5,
     "metadata": {},
     "output_type": "execute_result"
    }
   ],
   "source": [
    "# Create an empty list\n",
    "list_df = []\n",
    "\n",
    "# Create a for loop to add the words to the list\n",
    "for word in df['words']:\n",
    "    list_df.append(word)\n",
    "\n",
    "# Sanity check length of list to ensure its 1000\n",
    "len(list_df)"
   ]
  },
  {
   "cell_type": "markdown",
   "metadata": {},
   "source": [
    "Now we can extract the numbers by creating another for loop that goes through each element in the list and only extracts all the numbers and appends it to the new list."
   ]
  },
  {
   "cell_type": "code",
   "execution_count": 6,
   "metadata": {},
   "outputs": [
    {
     "name": "stdout",
     "output_type": "stream",
     "text": [
      "{'ckmb52fldxkseven3fkjgcbzmnr7': '5237', 'gckhqpb6twoqnjxqplthree2fourkspnsnzxlz1': '621', '2onetwocrgbqm7': '27', 'frkh2nineqmqxrvdsevenfive': '2', 'four9two': '9', 'six7sixqrdfive3twonehsk': '73', 'xkvsone2': '2', 'one65': '65', 'rggxsff1seven': '1', 'djbcgrrtqdshpqqzj43rgcr': '43', 'br89fivetwoqggnxjfourtl3': '893', 'zoneight47five5sixjxd74': '47574', '4five1': '41', '5seveneighteightzzbnzsvdjnkvndsxlttfour': '5', 'htdcmsl12ninethreepkqtdlvtl': '12', 'twocghtvtdlfchfqnjhrfour19': '19', 'rptwofiveonecvlldmppxtrvj3': '3', '6gqsvsqpzxj': '6', '5twomgkzsvg': '5', '4ninedflntfsn1': '41', '4threethree': '4', '43two6eight9': '4369', '4gqnkntjthree9one45': '4945', '9lmjgqnkxqvfrzhbcfrlltjxjlkjfrlmb3': '93', 'ninethreejkcbplfg4kseventwo': '4', 'mbkfgktwolbvsptgsixseven1oneightzvm': '1', 'm5fvqfkkk': '5', 'tptqnsxmsevencrkdmxms55zrfmpmzv7lzqlnmbkzt': '557', 'bqccqhbdgeight7': '7', 'four7nine1eight': '71', '8fivethndnpztzninepdkfive8': '88', '1sixxvqdfourlnpdrfbnnx41vhqgth': '141', 'sgpkgdb9': '9', 'fivetwoq7cdprnjdjhs3three9': '739', '1mfvptbhqshblvvvdl': '1', 'ztftqgbzld8jkcmsrdfzonemzdmbzxpfour': '8', 'dfkctqcjbmfourhszmlvtkeightthree2': '2', '4onersrfjcskckcxcj4sevenzzzpsixeight': '44', '1fourr5gxpone': '15', 'seven74ninersgvvmtgsix': '74', 'jvtwonefivetwosbpglbx2two': '2', 'fourfivecxgssssixtwofour4': '4', '3zcgcjdcpbgqdfnhxtneight': '3', 'fourfour29cpbccthree44': '2944', '6six9foureight5xmfdf': '695', 'four77': '77', 'tqtnjshdmtwo3four8one27': '3827', 'one52': '52', 'nine32five3six': '323', 'qcjbjrpqdtpvveightpmzs17fourjvghvl': '17', '5293gmtdttfpmrlhvlt9': '52939', '2zonenfglkskxhn3gxbrtxtcpfive': '23', 'three5cfourfvmqlnhp4two': '54', 'three4knrdzxpr': '4', 'fmpvqkxgeightthreebdrng9tdcffvsfctwo': '9', 'jpktgx8fivegqeight5three': '85', '7sevennine': '7', '3two3': '33', 'nfthhzcq2': '2', 'plmbtrzbnbmt1nine': '1', '149hvjbktkmbj8mtnrblcvfive7seven': '14987', 'bfthree1': '1', 'six6kqprz86two6': '6866', 'jthree6': '6', 'nine2hzrlcqrt7eight': '27', 'nnzhkhpdb8rbnqmxrfive': '8', 'rkszqnp1': '1', 't1': '1', '5sixlmxkgmxrgveight3': '53', 'sevenlptpdhtjpgxconedvtrrnngn8': '8', 'nlpvxbscttbbpgndnc7jvrtcjxbsxnqvfcxdcfrgtrdkjflzlrqcnmfourkznnmrv': '7', '7kllgxpb6': '76', 'two4eightfgrsix1five7six': '417', 'one2three6hmktjgmbxhbjl': '26', 'bqjtxhntjreightsevendgcfpmkld14four': '14', '22pgcslxtdhkhz8ninethreethreejcklznxq': '228', '146gqthree85twoseven': '14685', 'vlvxlmkfpcxsstsevencdbbdsix6': '6', '5sixseven48': '548', 'llljbtxtrrpssrfthree9dpvrndphhn': '9', 'qkhvq5': '5', 'svrfthree8bdhjshcftdnine4': '84', 'nfqnfkpchl5pcstz': '5', 'pbx5mfkfour8': '58', 'cptwonethreeptwo9gzmlkv9': '99', 'gdpkprlzr6466fxlvfour': '6466', 'dlnpklqtfivesixfptrdh9four': '9', 'onedpfskdd38qfvbjdnpglone': '38', '4sevenseven5qf': '45', 'onepgmmhlgmtvone3c': '3', '247tsnmkd': '247', 'threeznnnbtfive5tmdfxtwothree3ndjcszrb': '53', 'oneeight6rhfiveone': '6', 'threethreethreestvgljm4seven': '4', 'bfbrk3vqsmone39hzzxdgp6eight': '3396', '98rndphxhcbl': '98', '57fourlntgdngzpdsjkbbxnv7': '577', 'twons4': '4', 'three4threesixtwo2hf': '42', 'lgqtcllzsevenhrrhqsmsnncmlz7': '7', '8fnngjrxtljncbvlt7ninehfzrthree': '87', '12mltqtqqrvjmjsbthnzpdjtwo1': '121', 'lf1onevdmn2': '12', '3twozlqnddmrsixslphpvb': '3', 'five4nrtcjmvj': '4', 'cksgmkszrbsrgfkq7tqjxsshxxh7vngsnjt': '77', 'mfiveone7': '7', 'kkvtwone5sevenfcfnngpmjktrpxk7djgzmdthreehpp': '57', 'fxbgtcjp4pxpjv5rbfllhfcpfive8': '458', '2gxrkjdtvxmnvs76': '276', 'npvvleightlpd354vrfh1': '3541', 'zbnzdlzpqzsixnine4sevenqtddzzm6': '46', '6cxrhdvzbmthree98': '698', '77eightnine32four': '7732', '56tshj77one': '5677', '161xk26mspxkchfourfive': '16126', 'onenineljnsmvmfb7': '7', '6hxvmqtwo': '6', 'khzninetwo3pbtsqxlqj3': '33', '1nine3': '13', '6xrzjskblfq': '6', 'kbtsbckkonethreetwofour7lgcbxmjkjpnine': '7', 'fivethreecrjznine7': '7', '8qxjdsspgn': '8', 'vdoneightsix7h9': '79', '5bsjl': '5', 'gfllsrrrmzbfqdrlnvtdzr3': '3', '7hs2': '72', '1onelseventwo': '1', 'fivetwo3': '3', '2gnxv9sevenseven': '29', 'gmmhshzvsixzssixseven6fivehbdvsjdz': '6', '75onegckzsnpnine1xfslhfour6': '7516', 'sixgjhnfvsjnrsixeightnine49': '49', 'nineseven929rlsdkcpbjrjdlptjbzp2': '9292', '9hbpplffngltfourpgk': '9', 'twoldknnqxkkvvdjldqthree373': '373', 'cceight9two': '9', 'zmeightwohkgs6': '6', '6sevenfdmqkss4fivethreesevenfourqfnsvvsj': '64', '4two9njeightnine': '49', 'two3gzseveneightfour88eight': '388', '2clqj': '2', '1ndvbhbtql': '1', 'five4sixseven5ghlgbmdgfnqpfdm': '45', '34dt': '34', '9sevenrl5': '95', 'dpbpqppsixngvmkflllcrtn8': '8', 'sixgvsctkrp53sbsx': '53', 'nine9qdrqfourjc': '9', 'zvppfjpqch24': '24', 'sg4txzzfoursevenninethreesqcdznksix': '4', 'one3six2': '32', '5bgdjzxbrlsl3sixlbxtjdpgfkjmq2': '532', 'drsldhgjtrvmmz3jgrp6': '36', 'qkeightwosix95nine445cfnine': '95445', 'fivetwo82scjct7onegblrqrggv9': '8279', 'threepfgljkghzc9': '9', '8qvzljppstpnpeight9': '89', '8nine98tkxcfqtg': '898', 'sevensix4two': '4', '2eightthree': '2', 'cvhhmcgknj6threefive87': '687', 'seveneight7dsvqnjsjsqlkeightwovzt': '7', '71oneseven9fiveeightnh': '719', 'pdjtzxbgjxb3vzfdnjbthree': '3', 'xqpfourmpddnfcc4one5': '45', 'jnrms1fkssgpvvlrmf': '1', 'jbnkeightone6zldns85sixnine': '685', '1fourbqfgxscdxmkvdpsrm': '1', 'eightsixone8mjbrqkplkqntjdlfourpjdcs': '8', 'lxdsp6prmfglvdfz9eight7sevensixone': '697', 'qdksixvmsevent7xlvmtzdkhb': '7', '8spqjvhplpzldpthree2': '82', 'zqfvpq7pz22': '722', 'nnfbpfour1': '1', 'one9ninetwovrclctwo': '9', '344six98seven': '34498', 'kqkj9qqvfxn': '9', 'seven1fivethree': '1', 'shlnhgq2c3oneseveneightwodv': '23', 'eightthreepkcxlk7threeonethreetwo': '7', 'pgmbhrzzqmvkjl57fourqk8gxjmbfqcjs9': '5789', 'eight5oneights': '5', 'ninenineeightvkrsrkgh8': '8', 'svnfdxxftkgzpjqxzkmbbcfourvfsg3two6twonezqn': '36', 'mnvqcmkqvjlqvtltgdpktr3dkgkbt': '3', 'sixmg29pplfzrsqhlvfeight': '29', 'glzsbmzqjj43': '43', '1zqrnpqrcbzdsnfour67zpsxpkbbkmfgrzm': '167', 'kxbbcjjksix7sixeightnine': '7', 'zbnhsdxgt5sixsixeightlsdqrgseven': '5', 'ninezxrllznbcvmldxfbvjx5fivedtpdhsjgk8': '58', 'reightwo7': '7', 'fiveninenftgfourjbdkxtxcb38two': '38', 'sixlpck4sixzcppvhzkchmnpvqjjgffourj': '4', '34pmfdthreetwo': '34', '7zbnnkqone5three': '75', 'qxkmhcllcqkk5qrqseven47': '547', 'one62brghc8s': '628', 'twotwo1xvgcxbthree': '1', 'three83dfqgjlc8eight': '838', 'twofive8l1twocqmcccgdm': '81', 'two6cnine': '6', 'h2sfnczjmslpmlvdlzrs': '2', '9nbblsvxbhdxqfour8': '98', 'kfzcsg6sixonevrbchsjtfivenbz': '6', 'mgtlqcdtwo7qxmszcqpjdplccxzccsixone5nine': '75', 'mtfpphckdn1eightpdtkssqlxdhtlmcjxb': '1', 'jbphmjjjrg2159eight': '2159', 'zqskrzb1pgfouronevxscgtlccl': '1', 'lxvpgrck8fxhxm': '8', 'fournrnlfive1xt': '1', '3nsjnb': '3', 'eight1three513nine': '1513', '39eightsevenfourbgd1mbljzone': '391', '6two88five2pjpp': '6882', 'fourjlftf7six1xsktfhcdff': '71', '3kcntzlmnnhhmtmlftggqljkrvninetwo': '3', 'threesixonexlvxrblq24': '24', 'xpgzzrcckdlnrczxndplbpcb452': '452', 'ninembdnhhnhhzmvmtdjtkzmb9ncq9one': '99', '4fivebrqrxftwo': '4', '84tqzbcvgdrgpzpxjrone83zgzpsix': '8483', '99five': '99', 'mgsevenqgkckfhbfnine3': '3', '2seventhree': '2', '8fivethreefive2fivethreefive': '82', 'scrtqsevenjmxlvjrrbdtqgrdghfivethree7seven': '7', 'sevensix946onesevenfour': '946', 'dzn14': '14', 'nineqbxvponekvfffs96zjfhpthree': '96', '53twoqknxnxqbcone': '53', 'fhonerone7fourpmxskkmmx7': '77', 'eightlq4fourfourdbsdrvhhs17': '417', 'nnpgtgcbvrggctbtkzht5xmkhtnnn7brpxjcxdrone': '57', 'threecxnqkmrrpmzdljstdbfmk5seven': '5', 'sdptbzqhn7sixnine8': '78', 'five7jdzdzfqfivesevengtznjmqrblkkzkgvt': '7', 'fclvllfthx47sixbhq16': '4716', '9mbmsxbn': '9', 'three82fiveseven4': '824', 'p1kzmzpbhmcthree': '1', 'eightj3681nmgt8': '36818', '2two7': '27', 'jdbjlvxhhzzsnmcqldrldeight6nine4': '64', '2threefive': '2', 'foursevenrmfhjvzdv8bpbrvblll1onetwofive': '81', '65cfgkcrhbjk': '65', '6onecjxzxb72gmrblthx': '672', '4jlrvckc9': '49', 'doneightghmjzzrfourfdzxflm51nineseven7xkxt': '517', 'r5eightone': '5', 'nkgknm1': '1', 'rxbsnnzbrs4two4': '44', '1pqvmfh': '1', 'r2vpdpkzqcs85': '285', 'gtfzjnnhsknvjnmnine98': '98', 'zrdgv4hnbpb': '4', '7one165vddbrzpmfhskvzxdh3': '71653', '44szfpgjmvgt4eight': '444', 'dbgttrbj6five85nsqmzscksvdxks': '685', 'ffkrhbvq2': '2', '6fourbpjrdvlk': '6', '38eightsix': '38', 'two4fivedzpgfbtm': '4', '3jbk46': '346', 'slpkmrstrrvthreepl9bhctdfnfzc': '9', 'nine4two5kkfmcjgxbqkttg': '45', '1zppnmcr5sjfsbbxh48one': '1548', '8one8fourseven5': '885', '6three7nineeight6': '676', '96three': '96', '91twonelt': '91', '5sevenone2sixthreeknhzm': '52', '2fvhgcbvg7sevenzqdtftct7tvvtkpxbrq8': '2778', '9nvr': '9', 'eightfivetwodjg9': '9', '7four2six': '72', '5fkzgffzpgp3': '53', '75sevenfive': '75', 'mxtwonexsdrpkqzgm1threejqftvl': '1', 'onekxffhsqb4dkb9fivefvtcjsd': '49', 'eightone1eighteight4': '14', 'glfeight7eight4': '74', 'eightcdfjjfiveeight4fivetwo': '4', 'npxnp32kfsfjpggdtpkm5': '325', 'seven7threevcb': '7', 'xtcvsmdx2four2twonefl': '22', 'mzkgnzstwo844dcseight': '844', 'zgoneight65z1seven3': '6513', '1two5lc': '15', 'threevsrg5vdmfvpss27qzrmvmbz': '527', '7qbcnjg1nine1seven3seven': '7113', '5fourxdxrhmxsj': '5', 'v78': '78', '41nine': '41', '56fmktkxvltp4bztxkqfrdthreefive4': '5644', 'fourdnq1': '1', 'ctlk31srscmmdn66sevendmjjqvgj': '3166', 'b7nine8ninejqqhhdnnpx5': '785', 'ninedlxdshrzfmrnnq17': '17', 'jbneightwofiversjctwogvvtprslpgfour9xcone': '9', 'dpt5hbgbnmdlthree5sixvsvqtnmndpvv': '55', 'sevenrztpgr8nine2': '82', 'four9three1keightbmljrjgxkrbjdhbckbst': '91', 'sfmztfjh49one': '49', 'seven3three7eightwovs': '37', '48onetwosix4four4ntvrzvdztr': '4844', 'mphtwone5sevenfour7': '57', '4lgqnbdlone': '4', 'hpnmtjbcdhfhsnxqhjhhfgteighteight8one5': '85', 'cgtdtt22': '22', 'plnbntcb8seven1gkgzngxq': '81', '7bonethreefour': '7', 'ffoureight88': '88', 'z2four3dfggfntxjbjhdr9three': '239', '5sixgpcm9two': '59', 'sixpnlcgbcpdsixtwofour4foursix3': '43', 'dstgjlh812': '812', '3xfhdfrgqjfourkfjone7four8': '378', 'nine4three6sevenfourthreeeight': '46', 'njvdqthkv5seven6fourtbklhrqqsixeight6': '566', '58rcfcjdkxcj3eightlndf': '583', 'jhnt7zblnkdvhslrhpbkzdh': '7', '7threetrlkmmlzsmtwo4dmjf94nine': '7494', 'pssrhmtcv7twotwodjxvlbmnfive58': '758', 'eightseven271onefxxrfglh': '271', '9bmtwo': '9', 'three522': '522', 'eightseventworckvnine2': '2', '6fourtzmlrkrztvtxfcdf5': '65', '3six4rdchffcg7': '347', '6threedqssixnine': '6', 'fivetwo6': '6', 'sixnpkr5xbxmjcxjznpnrf8brxtmgl': '58', 'gtvg3zzbeightkphjs69pjprvhlgl': '369', '7kclrcjbtkcr63two5': '7635', 'threehpn38fivedcmfkgqqeightwovg': '38', 'hbjcsfshsjqqfive9sevenfourthree3fzjpfjzd': '93', 'five7qzhnthree1': '71', 'nxhg17j8ninejnqlnine': '178', 'ddlnxmcg2': '2', 'rxeightwopqtpqncvd481154fiveb': '481154', 'sevenvbkzgzmnine4qhpptngvhh': '4', 'bkmz6nineeight69': '669', 'tqvzkqfourrj4one': '4', 'sh15nzxzhqdxd96dqht': '1596', '6rhztqrfninefsqszx': '6', '38cngonefourrhlljvpgz5vzhmbdjj5': '3855', '8fiveddchtllpt': '8', '13rgzljhsdjfive2six': '132', 'sevenbdnbheightfive7qbzjvlsr3': '73', 'fivejmfvtnhz1eightkcdpjsghgtwonine9': '19', 'five3bllpvnqgtzdhvprgb': '3', 't1vcttwo': '1', '9953three92': '995392', '9hrgxdpf': '9', 'sevennine579seven': '579', 'threekp1onefrfjbrmmpmsdsvfour': '1', '4threefive61rrhrtdjs5': '4615', 'xbmvcfqp4onesevenmkgvsnprtl65': '465', '379': '379', '4966dlprfxmhmqdfour6': '49666', '9lllhz8nmqxkzsevenxmbqvgqnj8': '988', 'btkxnzonesevenjmkdcc1ff32eight': '132', '7three65one745': '765745', 'seven66ninelkbmvndm3': '663', '4three3sixeight3': '433', '177dcxqqbqpkxgctwo': '177', '48cjpd47sevenzgtkrdlfq': '4847', '5ppzvklbtnine212qlmt': '5212', '89tpmnr': '89', 'dh1gfgb6threeqcm3': '163', 'five83': '83', 'fzlkpx6seven2twotjlqpgldlfour49': '6249', 'fiveninefivenxpzkrslxm44': '44', 'pxxbnsfoursixeight5mjkeight': '5', 'ninefivesevenz6': '6', 'djddxtdeight2vqsvdgttxonefourfhdfxszvfd8pjcvzbgp': '28', '253seven71nine': '25371', 'eight6cb71': '671', 'gfzptdj1nine5twosvtmpphj9mkhd': '159', 'hfjcpvzeight7ggqrmkmzrhbthreeeight': '7', 'chjonetwo2lqxfrbvq': '2', 'fkfmntldvleight4threethreeeightfour': '4', '6j81threeseventwo3seven': '6813', 'seightwosvsnp4': '4', '8bqjk75254': '875254', '6seventsmnfjtn4rthrp': '64', '9kksdvfzzpsszffouronenrqrcnine': '9', '5dkpp8fournine4one': '584', '4mpbzrfvj8two9sevenonenine': '489', 'jzkdrrjsnpxzxbjhb5': '5', 'three87oneonexppvhz3seven': '873', 'two39kvrmz': '39', 'vdfive8dntsz': '8', 'mthreehzdghb3eightsevenfttmjtx': '3', '2dlnjsxlg': '2', '7threecrrdqksqsevensixnine': '7', 'mdxhrrrfiveone6': '6', '8nine52': '852', '725two': '725', 'jzpxt2vcninenjgfzddk': '2', 'three29': '29', 'zjrffvdgnpeight1sevenglpfkdb': '1', 'two3qnhqvxeight': '3', 'slqdvfmeightmlhjdcvbrmsjvrk6': '6', 'two13kfxd28rzqhcdkjtbbstnhbfive': '1328', 'qhdqqnjbdk8eighttwoqpthree': '8', 'one1brxnptch263eight18': '126318', 'threexntmdtwokdmhf3pdkgpthree': '3', '2three9jrcrmjvbrm': '29', '1mmlsfsdkzkvjtwo3b': '13', 'sfkkkncf3three4seventwoqzhmcdfbhxfl': '34', 'vfnqlnrzcrzm8fourvpzxqdqsfb': '8', 'rjkhxqdmkrfive1': '1', '2four2nine9znp6seven': '2296', '7doneone': '7', '9threetworqlk': '9', 'eighttpclmtv4twofour5mtxxnpthreeoneightfp': '45', 'onecfjgrbsjncmpqhqvhxtfpc21nineppone': '21', 'eightlvjxmxhfive9fb': '9', 'ninenrjlmcthree3four': '3', 'eightlxrnvljrhksxzfxzbrt644': '644', 'blmjnfgsrcms31': '31', 'zsix16xtjvrtn': '16', 'lkjfpxjh1sg57xbxlsxcrsix1': '1571', 'mkmdcsbgvd19ninecsevenone9': '199', 'three1p': '1', '4prbjfour1ninesix': '41', 'pkf7sixsb': '7', 'fiveclczl8sltncdxsix': '8', '4ninefourseven5three': '45', '3lpchjfgbhzjbqggsfoursixseven': '3', 'twonmcfztwoqp1one5': '15', '87sevendbqdsevenrlzkrhoneeightone': '87', '4three4': '44', '2tthbbcpcr36tqvfjkfs': '236', 'rtzqgsixnine4bzqhjrq8five': '48', 'eight3fivel4kd': '34', '1fourfourdpvvghvlzxtwothree': '1', '2gzgzmrpbztm1cgzvvrtqt': '21', 'qdrfrkncnt1eight': '1', 'smpz4mjrbthree1ninefour': '41', '6seventhree7': '67', '5278nlnfjrqlone8': '52788', 'nine6eight': '6', 'twoqrtdsreight2dxhknhpdzz2pdbsnlpljlxkv9eightwop': '229', 'vl6eight9eightsix1lmth': '691', 'qxsevenkckxvmjkb1': '1', 'hvhlm2twotwoone': '2', 'grtlftfthtthree331dzzzoneseven': '331', 'ftpkgvrsc85cplddgnn': '85', 'lhcbzhgfjlgmcsn66': '66', 'twofourqjrltlvcmmzv8nine3ps': '83', 'knvz5four': '5', 'threefivefoureight7four': '7', 'one9fournine5': '95', 'cr8twofive7two4tlbpgbngsp': '874', 'seven6gzn8trjmzrvjthtpzld5dcqnjmtl4': '6854', '1five1fourfour8hqjzshnszhzgcchs2': '1182', 'tld78blgffjksevenninekmjnrzlvxr': '78', '15six': '15', 'fqlmqhjslgnllgs6three': '6', 'jvhmkfjzd5': '5', 'kfkxjmbrgjzmjtwo2qnh45pxrkrcpmjd': '245', 'dh119mvxlfdft6sevenqdxb': '1196', 'five5jl': '5', 'jhqp2qzkfvjdfts': '2', 'teightwo6': '6', 'kscczzhftqxmbrjtm46five5hncmntrgqz': '465', '65341': '65341', 'cxjpgfourfour98spklghbv73': '9873', '5sevengnxldmlvnrzsthree': '5', 'bsn6three': '6', 'fivesixz36': '36', 'snpmdmx65five4': '654', 'vrjbjsixfour37onesscclpgxr': '37', 'four58': '58', 'nlrflkxjzbpckmprkp435': '435', 'pp78': '78', 'rhz3dblsmbl8mvmthree3svhbzb': '383', 'qtztdn4': '4', 'rqrdr5ninefivexj': '5', 'fiveone4ninesplghqrbcnmmzll4mvklfmxv': '44', 'tj3ninekvczg3cczmhkdf': '33', 'fivelnrjmn3jvlmhplj4fourkvdceight': '34', 'five6jrbkxrvmtqfvbq7pmjmdkmkv': '67', '6gcllrgktc': '6', '21zffhnksmjj1rcdpkcrznine': '211', 'threegpnpftrstmfive4ninefive': '4', '1cnsixpnvrxq': '1', '33qghllh': '33', 'gfour1rmznkmplqfsevennksglsfdqtwotwonet': '1', 'kjqcslq3nineoneightkq': '3', 'three8oneninepjpqnzccthree': '8', '3jpfhtrfrffournmrxrpdjm': '3', '2svsmkptdcmpkhbpmnineczjsjvlfpkckxscfour': '2', 'dqxpjsnineonenvhptwocprtsbvcl6': '6', 'ninethreesixninesixxjjjkvtbgd5hrstthree': '5', 'fivefznprpxccnk8four3twobllsjnfjnx': '83', 'ghh2skv6': '26', 'eightninethree4jbcgrqeightfive': '4', '4ltjfxjbthreesixbrtzlbfdx7eight': '47', 'one9mvbrcc': '9', 'three5khjdjlpl4hrzqblshkxdgseven8': '548', 'czvxncr2': '2', 'eightthreedhkkpr9hqqdtwo1': '91', 'fouronetnhxgzstdx31six': '31', 'fzcnineghrfbcbhhv263': '263', 'eightfive525onexgrzfive': '525', 'zclvsg9three6eightkeighttwo': '96', 'two35bhmnlt': '35', '9s': '9', 'xbshssrspj643four4vrjdnlf': '6434', 'nineseven4ztnchhpx92': '492', 'gpfive25dvx': '25', '1five5': '15', 'jtcstj1kqrsbhsdsk8': '18', 'eight1sixsixbnsfouronecsv': '1', 'tgplkg2hgeight': '2', 'seveneightxsgcsfxd9dpkvltrsnlkccrskrbppmkxmpt': '9', 'pddbvnrqzznqmmonesixjgpgm9rmlxvqqmdbcqhng': '9', 'xqdbsktwothxzfsmqptrjbthreesixhqgrffqcnine2': '2', 'vxvtfjsevenfivethreethreensflthreenine6': '6', '8one9sxrczdfg2': '892', 'mdtdgjthreethreefjzqs16': '16', 'dnvpjteight6tcn': '6', 'eightnine3cdzk': '3', 'three6tzmqbzgmdeight9fiveztwo2': '692', '1pg6three6sevenmghhdx3': '1663', '41threenine1': '411', 'ncbrrm7six2nine': '72', 'eightxrxdsnsvzddhrqvkfmseven3ntpqhsbttqmlp': '3', 'one3fourmmrhpjmnjnqxkf4ftkxsvsix': '34', '54zdqrrmzd': '54', 'rftdstx6hdrhmqjs9b35': '6935', 'fiveseven8five5': '85', 'gzfkkqznk4': '4', 'six32ckkbh': '32', 'jpk171fivesevenhbjlddveightvcqh': '171', '71foursix7': '717', '2nine4onelkvplzhj7onen': '247', '4nrvsh3twoprvpgltsix1pzbdhvfour': '431', 'skvnpjfmkhmf7547tszjzmq': '7547', 'two3ctthreesix3sjflprlrcg8bnhxs': '338', 'six41nmgpztwo': '41', 'dkkhmgmjtwo4seven': '4', '8jqcmhrbmcninehbpxdjpvbk882ktjxp': '8882', 'hlbhcfivetwo77three': '77', '19ccmrmh1lgmngl8': '1918', '5eightnhfsjzjseventhreefiveeighteight': '5', '3dkvxfive': '3', '39zn': '39', 'cqsklnrdhtwoeight814rdncfthrjbc7': '8147', '13pfspbxkfrr': '13', 'five7sevenfourfour42tppvrfqrvz': '742', 'nboneightfour9eight7threefournmvcrgmkx7hs': '977', 'sixoneppbone5ctdhjzzrnine': '5', '5one1nineeight1two99': '51199', '7rjvqdvgxxmb': '7', 'sixbkdpftd6': '6', '699': '699', 'rflvscthxb9one9jtfqd': '99', 'sixtwo2hsclsg': '2', '8nzgpt7eightfour6zhjxqjmrq53': '87653', 'pddnfour1one749five': '1749', 'gbbprvrq23seven77zssgktwo': '2377', 'ppc2flmdjrp7twoonerjhtlv': '27', 'vlltgb8seveneight5clqsthree6': '856', 'onetwobtgdkkxv1five6lcfvkhm9three': '169', 'two8threesixsix': '8', '5threeeight': '5', 'onespeight9twonexpr': '9', 'pzfourseven8five9five': '89', '9mbdbphhrfeight': '9', 'fournt14': '14', 'jlcb2': '2', 'three3eightnfj2': '32', '6four2fgsndlslkr': '62', '8sevensxcjl6fivefivesssevenqghn': '86', '3xgzj66svlvqgcvzzlb5vvjvmvb': '3665', 'hfhmngkv64': '64', '263six': '263', 'oneone15qtgtksjdgz27hjl9': '15279', '1six8mrrkx6': '186', 'vdhslzfgsevenfivemseven4fourq': '4', 'vdjlnrvqjb5thsevenfiveonexskqrfourhtcl': '5', '1ninefoursix6seven': '16', 'twobvpnjmspxmgxkv4twotjjkbxfgs4': '44', 'fivefour8kfjrpdddhr': '8', 'dvbljqpznfjjp6sevengvbdxm1bnzhqmcdgpzrd1': '611', '34cmclpfrgrjpxpjpdv': '34', '9xcdkhtsdmtvlrtlcbsixtrjqxg': '9', 'rdhqfcseventhree9tqggvslm': '9', 'gddfoursevenrqvqdkqbr6ninecfd': '6', '19cjpltfxspkpxkctdhjkncnbtwoone': '19', 'mseven7six4five19hjd': '7419', 'jcqlxpmmj7rsrrngnq2seven': '72', 'fssvonepgqmrgbv1': '1', 'fourfivefoursixthreegjgxhbzrgx1': '1', 'fzdfbxsths5szkgkgzdmnvtnine9nqb': '59', 'rszfmx6eightnine6eightj': '66', 'three199twol7six3': '19973', 'threedmxbsevenjmdvrzlfive26': '26', 'ninehkbdkc594one': '594', '6fsix': '6', 'fiveseven51fjlx6': '516', 'bj3fivesix1': '31', '9vxcstvpf': '9', 'threeseven6': '6', 'ninefive4twoonetwo': '4', '8seven6': '86', 'twopxsts95': '95', 'pzhxsxnnkthree6': '6', '6ninem591': '6591', '7drfqdsjsnfdbqp': '7', 'p2plgbninethreesixthree': '2', '5seventnhvjfrlkggfjbmlzxhnnnsh': '5', 'seven691rjmnfzddfive': '691', '466mmgnh': '466', 'dsctthree7': '7', 'eightqlfourzndmzltp34xjbdmpjs1': '341', 'stmprbctwo1ninesxbzqkkdqgdqhone': '1', 'sevensixeight91sixjscqxlzj4': '914', 'vrctfpbp2bdknhtwothree68ckzlgkghponeightg': '268', 'one82lzh1m9': '8219', '5dgkljnlvnthbdfeight7x9kloneightrp': '579', '9pdsgfourzcfour51one': '951', '3twonltnmdqttqmj6fivefivesix': '36', '1four8szcp': '18', 'dqbrkz8xp': '8', '3twoftqxxgdg': '3', 'sflsixzjq1': '1', '6nine4plhvcthree': '64', 'znzdrj4526fjtszspfour9pk': '45269', '785bttrfnrtzvninehqzthfr': '785', '6slx7six8qhppjmbcrj': '678', 'dc1fdzzsvnb': '1', '1xfourtwo': '1', '1mvt283': '1283', 'fivecflqkthreek2': '2', '7gtdlvbcxvrxvx1264eight': '71264', 'b1pbpcsix': '1', 'fivefourzqrmbpgnqzgpzhfour9': '9', 'seventhree5cnvjmthree': '5', 'ksblnqbkgnfone8': '8', '8fourvkhkhlsjq': '8', 'twoqjvb9zjvpfz2onesixk': '92', 'tdjmrcvsevensix1seveneight': '1', '5mqxkkcttfivezdbcdmlfivebchqlcktpseven': '5', '7bzsnljccxqbtq3dsfsbrlpgqjzxeight': '73', 'one4mjgfhzsjdc3crgthhjrznd': '43', 'sixthreektx8xjbdjlq': '8', 'bgvldztfivetwo3tldvpzkmonepdvppd8': '38', 'xhzm91': '91', 'oneskfoureight23': '23', 'ppsj64': '64', 'fgrf45four5': '455', 'four2two': '2', '798jcgzf': '798', '93mxc': '93', 'hn5q9rm2vtksix9': '5929', 'cvdldzschflc9eight': '9', 'mqdtndzvv9eightkzxlgvcggrkltzlphcfq': '9', 'beightwoone6rqjcqq7sixfourrkghseven': '67', 'two9nine9foursevenfourone': '99', '793sixzngtcbrbtjmbjbqxzpqjkn': '793', '1five4': '14', 'x4': '4', 'qmlvsptmqhfvbfiveonemnmzshczjgsvgsgpps2seven': '2', '28eightmt9': '289', '1four8hbpnktmn': '18', '6nine5threeplcsdrn96four3': '65963', 'two3vdvh6': '36', 'three7fiverkjmllclbprmqgb4': '74', 'strvnllfmqm2threesixbbrjxbjvvxvjhr91': '291', '4dbqqbdcddldhgxjrnfivehz9': '49', 'v81nnvzv': '81', '3ssptnqhmrzbseveneightwoxdx': '3', 'ninetthree72': '72', '556five2three': '5562', '99175onepzqpj': '99175', '8tmbfpbsninenineglvbh7gnrd': '87', 'three8zmtvxqmksfpvkfourp9twooneightzgs': '89', 'khmcnch1tb2': '12', '5jtcggvdfzmsppshsqlhz': '5', '249sixtwofoureight': '249', '6sixfourxpnt': '6', '6threen': '6', '16qmgfjjmqnktnxgz': '16', 'kjvbk1zzqhdkgxxghxsix77': '177', 'sndnsm1741gtszjkmvxsevennine': '1741', 'kzlrrrjbtrrgf5jsbgxn': '5', '4bnfdfbgthc': '4', 'ztghxzrdprvlfx4': '4', '54tzqlfjfnthree7twonine': '547', 'knqkbts5ffqhdsfpmdeightnfhpjcmfmrl': '5', 'jzphxleightjhxvhdrseven5mktwo': '5', '1fivegxdknn': '1', '3onetpqdddbhb2seven2': '322', '7seventhreebzcqpkdck5dc': '75', 'seven71': '71', 'eighttwo1': '1', 'dfflcrcqfiveone2seven6': '26', 'qpf8': '8', '1seven1bjsmxzr54four5': '11545', 'mmztpseven836four': '836', 'three8htqhzkrxhrfourthreebdrmjsvpfb1': '81', 'zjhljpmmdms998ffjqgxgbkdbvxxppdltbrpzcbf': '998', 'rj76': '76', 'vlxnnqxr4eight': '4', '2twoonefourtwosevenpdpfkgdhhzlbfq': '2', 'cn5five4': '54', 'hhqzsxlm45twonine': '45', 'ncszsls1z2': '12', 'ktxkkbhcxcbnffzbsix8bf4r': '84', 'xrk1bvvrxvkreighttwoeight': '1', '4eightqbmtpsl2six': '42', '13jzchfndpjpone': '13', 'fivefvm1sevenhjxrnkg2bfmdnbj8': '128', '9gcfmkhqrczseven7jkshrh': '97', 'twornrbjlvsdr1threem': '1', 'njzxgftwo4two': '4', 'threertvjcmtlr7nxhghbnvkq': '7', '6seven8drfivecvv3cr': '683', 'fivefiveddnhmz25nine7': '257', '2eight4nine47': '2447', 'nthreetwotwo67': '67', '4mbsqbpvf7threedp4fourvvdgkvzfkz': '474', 'sixthree1twozxldcqnvdcksfiveseven': '1', 'nh2': '2', '4rczvpnvsptwo': '4', 'foursevenone4': '4', '5sixkvsjjqzs32kbghctffhssmg98': '53298', 'zbclnpj3ncgjrpz6tcgdvjpdmkk1': '361', '4mmsbtfivetwodgvbhrzrlh': '4', 'sfour2fivefour': '2', 'jx9': '9', 'xltwone6': '6', '1szbglvbcblqtdqrbdqqhbfzrrq4sixfivezfb': '14', 'two8klhvgbm97eightfour6': '8976', 'szslrmeightsz61eighthnhxv1': '611', 'seven42sznlgdsdgfj': '42', 'three2eight26nine': '226', '4sevenfmxrhgkll3fivefjsxninefour': '43', 'onenlzksgpz2ggnvsmlxxsvqsix6twodbdzvkbhhl': '26', 'mxs62zfsmkgmxzl6nbsix': '626', '9sevenlbbt9twonet': '99', '32tworbbmnbgqjd': '32', 'jrx7mpbcvqfhfr7sixsixkqmcj': '77', 'vcdcthreefour5bbqbhxqjkqqzkdk': '5', 'onesevenfourhxfvfoursrq4n1': '41', 'six1hglqzjxfxxd4': '14', '4lkjljr2': '42', '3brlmgbpdnpslgcsevenxrrftvzlxc5nine': '35', 'czhmhhnrxrbzgtmvn1mbjpnrlsevenbfbztqfp': '1', 'xnctftbbm3seveneight9kpkfour': '39', 'xsixsixh5three': '5', '2lzslqtllcpfdq3': '23', 'six2xstqpjctsxgtwo941': '2941', 'sixthree6': '6', '636bmxvvfztzvbrxbfh1four': '6361', 'h4pcllfnine': '4', 'pknldv4jzlkngvqslchstsnfj7sixsevensevenb': '47', '78threegfclmstbxt': '78', '9three9mnkhrrlbgonethreef1six': '991', '2bzslfdpvoneeightthreeone3jpqjk2': '232', '1nfjttgvlsn6eight2hznlx': '162', '7three7sevenbdngj6threeseven': '776', 'one8qdldvhjhrfsixgscfnpvbm2': '82', 'mqlhrjksdtbrvrgvpc884ngrddthzjgtjxnjq': '884', 'kpndxtponenine97': '97', 'vcpsjrxlpfqprxz7threeeight2': '72', 'ztgckbfr5twodpznplgl32rfqjhrvhgmkd': '532', 'threehfvxnkfhdgmtwo16': '16', '6seven36qrndxhxljgkskgtjdtscczz1': '6361', 'ndcqhqnvtppkfbgljkrd3xfdvqhxkx94': '394', 'sixgonebbblkbbqvccnvm2jxpvlnrbmjnsrnqgbb': '2', 'sevenmeight2rlvbkxmxfour3nine8': '238', '72bcdrcbzffkc3oneightnc': '723', 'onesevenfour57': '57', 'sixnmplqnfx1eightfour': '1', 'nine5bh4eightseven': '54', '7gcqthhztknjslxfbcj19': '719', 'five2fivethreedbrkgchn8': '28', '221565': '221565', '26three83vmtlj': '2683', 'nine5threeninezgjcpssevenone': '5', 'xshxdblgf8threehxkntrdn6lghpzt9': '869', 'fdfqxmn3eight6zssbgnddcv': '36', 'eight1hrrqmzjjq': '1', 'ckhpqtwodqz9r': '9', 'zbtjjffourninesix7bqz': '7', 'jeightvfdqttxmsix3pnh5lgf': '35', '6onerqbdslg': '6', 'fivep26two': '26', 'onetwogscnvv1': '1', 'eight1487': '1487', 'threekksixnine6': '6', '69sixoneqhhrqsg': '69', '8sevenmtcm': '8', 'three1jlbfpfdxpqpzspgcllfv': '1', '27one': '27', 'mlmfourseven3': '3', 'sixninercgrkdpd9': '9', 'three7kmvsztmxjsixthree3bvhmhthreesdrbq': '73', 'mk7': '7', 'jstwone8fourkrlmtfk7qjvrghcbfive5': '875', 'eightchvxseven9nine252': '9252', 'five68qoneeight': '68', 'seveneightfive2threetckdpkqrnqpthreevlqlq': '2', 'jlcpvfxpq867xfcjcddvjkjdfnqtnjp1': '8671', 'prxzmdmbxbfljckhd7pbc5three': '75', '92fninenhnxjlzninenqmhmmlsfqf': '92', 'ftmljhqxjdhddkbtxlbz9five': '9', 'oneone4cfsnxltqfbnzzljseven': '4', 'gbktqjbrtgsevenninexf6seventwonine': '6', 'nine3fournine': '3', '1fourtwo17seven': '117', 'twosixmpnpdzmjxlmjsjdnkmnhmdtdg7xrbknkplsix6': '76', 'fqzqxzkgzrlkmqfour53seven2': '532', '8three27eight4onekgrlc': '8274', 'nzrlgrvfive3vdtqcqrm6': '36', '4qfgvppninetwoone4': '44', 'threelpmgkfxoneseven8threebmjtdl4': '84', 'slkrnqlpfxcrgxmnd9one7': '97', 'fouronekbfmdrjxvn8kz1twosevenrth': '81', '8xbvkfqmzjg': '8', 'six4xcx97lzninefivenine': '497', 'threesixhfvnjrvpf1sixseveneightfive': '1', '8ninethreethreepdlddhdfp': '8', 'two47threefour': '47', '61czbc4cvklssbpt': '614', '8712st2': '87122', 'lgflr1three': '1', 'ninenine9': '9', 'ptx86five': '86', '291': '291', 'seven82three9': '829', 'mxfhmtcjpxqqsl68hpcfvjj': '68', '1qmvjl6four': '16', '3six84': '384', 'fivefivefourfiveeight7eightwods': '7', '2seven5five2d': '252', '6five3hqbjsrzhtkv7': '637', '4pgcsxslr6h623': '46623', 'three8one': '8', '8xnsgbjhz9': '89', '3gtqbhdzjninetwo6thrfssxqptjbtmkkmlddhdm': '36', '6mldxcjnxv9': '69', 'mc8one88': '888', 'h4': '4', 'fivefour2s': '2', '9q': '9', 'fiveseven8two8lkrtvdqchbvnmzmlhgqbcx': '88', 'cpcgpg9cnbsixsix': '9', 'vglgjf9qzcspsnsbrktbnpnppzmgldtwo': '9', 'three2kllpcvmmgcseven': '2', 'twofivekvcnfpkplnv2threefivehvxpthree': '2', '36h6hzfhhbtqgqfgthreesix': '366', '86kkqqseven9': '869', '7jgncdninejvmqdmone5sqjp': '75', 'seventhree4eight9three': '49', '38knvgxrftdtwo1': '381', 'ksgjdlpxhztnlfc6hxncbgbmgzldvlvmgrjkmtwosix': '6', 'dtoneightone427': '427', '3518msltkgqthvjhs': '3518', '75qmqvkmf5six': '755', '85pvvthreeseven': '85', 'ckqoneight4xqqnkdnzpggmxrmhkhx171nineqgd': '4171', '76nine': '76', '6threentcfsvvfseven1eight': '61', '23fivetlqdfhxgg312nine': '23312', '1pjninexlqnthreeoneoneoneightx': '1', '6one1': '61', 'lfjmdhpj9fiveonelvfivenine': '9', '4xjmxfxxfsbxgk9sixhq': '49', '8six8vszdsslqntzjqxx8two': '888', '4one88995five': '488995', 'nskmvtzd1five': '1', '4tpzxkbfq1vlxpvzbxnhqtshzhfourtwo': '41', '7six341gsl77eight': '734177', '94dvc': '94', 'qzkmxqqh6sixvn': '6', 'sevenoneone26m8': '268', 'ninedtfvl3four15eightjtpfhlzzct9': '3159', '5ninesixtvvpblfqgb': '5', '5twoseven4onedcsqj6': '546', 'gcbtzns6eight52ccvvpsbdgfgg': '652', 'tczvbfxfvcbfxzvvxp9three': '9', 'fourkczgcb9knnpkd3': '93', '9ninefive8nine5': '985', 'tnkpsxjm7four45bpdg': '745', 'twofour1glkvvkq': '1', 'fiveeightfive8vbqtsmhjqr5vgbmsxrkh7four': '857', 'lhncnxngfour9five': '9', '5six36five4': '5364', '74ckc': '74', 'lkeightwol11': '11', 'five3mnlbmsg2': '32', 'hmvmgnqlhdgonedxmjxxbpbpt1four6zh': '16', 'svmmzbbj5': '5', '3l4': '34', '1dgfnone17': '117', '667': '667', '1qlcg4seven': '14', '756ghcxrmrgtninefivegvmtjhfrj': '756', '6twonehjv': '6', 'vpgeight7twonlcfcdspmvpcfj6five2': '762', '76jhj4sixeight': '764', 'vcfrscgccnine6j': '6', 'mhm8kfjl33ninefivethree': '833', '85bfqjpdmbg92rjbthcrfgvcjzqhpgb': '8592', 'nine554ltcgj5': '5545', 'eightfivevjszdqkf96ninemgldmdth1nine': '961', 'sixq4pcczfqc': '4', 'three7two': '7', 'eight9csevenfour': '9', 'fpnnxvcttscfrgponefive8twohgfkhbssix': '8', 'smkjtzm72vmtleightjmkxkgpfzmjpmbbd': '72', '7two1lxvqqzzrvj31fourprzmsdzbf': '7131', 'kffeightwogzcqpzdbhfvmckxmbhrgvonevcshkbctbc524': '524', 'fcsoneightnmtgzbbnflnnlk5two': '5', '6gkxbhgzbmltwosrmone1five': '61', 'sjrfkfjszsix49': '49', '47seven82fourfhhfmlshdsix': '4782', 'sixhjqszlc6kzzbqsldk': '6', 'nineptfourrvrghq7': '7', '4four5one148jcbvnbj6': '451486', 'ninezfcrvxfnjd6nine': '6', 'bfjfbpfseven7': '7', 'bdzmktwo4fourkrjj3': '43', 'nhnfv725': '725', 'sixeightsixkkndrj7': '7', 'eightone2m246': '2246', 'fourhsbdblm74fourcphtwo': '74', 'khrjxxrltbpngsmzndgsjmzvgqxfhvkct6eightzrvpmpcc3': '63', 'mlsc4qnlhqjfour': '4', '956onefive': '956', '1xtmbmkscvv2onefivelvlztjtctz5eightnine': '125', '32tmphhjnlfsixskninekjdcftm': '32', 'krgp1hdhgvgpgbvbxgfngvktwo': '1', 'klpnpcplfhlztjgv17six': '17', '5dsxngmpdvjhnlbhxmp7xqqtgdoneightdvm': '57', 'threeeight3t': '3', '5fourlpqzq2two1oneqlq': '521', 'eightfivesixnineeightfour1': '1', '52ppqztdggqgtphdfz4fkrkfztzzqldpg': '524', 'seven7zbone': '7', 'xg79onef6eighteight': '796', 'three6nvhnqeightgkttsvtwofive9': '69', 'rjsevenonefllcrdnbmqcmxqsq38': '38', 'twoseven2dppxgmlhr61onenine4': '2614', 'sevenb3btzhscqbrxxjkhtzpv': '3', '859two': '859', 'threetllmjmhdjr18two': '18', '94tmvfpzmgvzsm1fmbhkhzffkzllx': '941', 'nlkndffq2three': '2', '6ninemfour8rbxvj6': '686', '7clxtxrt1lqg5': '715', 'onefivegjnfzkvg9': '9', 'fplrvmqjdfxvjdfivesix6rpnkfour': '6', '5fivetwoxdgchbjjrckntlgblsxlcznfd': '5', 'eight7fourfour': '7', '3kmtjlfbgssixmspkfzrgxtctksix4onetwones': '34', '8five15sixthreeljsfive': '815', '9lnn': '9', 'nine7pzrxnnkthreesdjxphsrf4hc8': '748', 'three6115nqhllcmpmzcfour': '6115', 'vpqjnvmltx8fivefive': '8', 'vrlqlj5fivesixninebqhgcpgmgkmflvn': '5', '76eighteight7': '767', '8qkmnsjxbfhcpsvn4': '84', 'oneninexqdseven4threefive': '4', 'rpcvmnng162fivesixseven': '162', '31628eightthree': '31628', '83d6fsfqdghztwo7bmvrlh': '8367', 'gknfcdqlrs25': '25', '9gkkth2ps': '92', 'bxnvsjxqleight9ninenine': '9', 'rsmcrqlnhsmjhspseven96vsckknrggbjd4tgtgbkxgvt': '964', '8seveneightcxrh': '8', 'tkmfour8fivevl9one': '89', '8mgrxk': '8', 'fourbgckqkeight6f': '6', 'threetwo3eight652pp': '3652', 'ninefivetwojbhglxfxzfctwo8': '8', 'jmjtcvpsxzdbkbqthree1qmgznpbzlthree4six1': '141', 'foursix5': '5', '6nbdzdlmqpdlgpcclc': '6', '24': '24', 'pseven3threeeightseven': '3', '7nine7gjdksbtqrrdsr': '77', '5ppflb48tkcffone8six': '5488', 'five2two7hstbbqzrninegbtwo2': '272', 'eightfblzpmhs4': '4', 'fbbdeightzzsdffh8jbjzxkclj': '8', '3nine6five1': '361'}\n",
      "['5237', '621', '27', '2', '9', '73', '2', '65', '1', '43', '893', '47574', '41', '5', '12', '19', '3', '6', '5', '41', '4', '4369', '4945', '93', '4', '1', '5', '557', '7', '71', '88', '141', '9', '739', '1', '8', '2', '44', '15', '74', '2', '4', '3', '2944', '695', '77', '3827', '52', '323', '17', '52939', '23', '54', '4', '9', '85', '7', '33', '2', '1', '14987', '1', '6866', '6', '27', '8', '1', '1', '53', '8', '7', '76', '417', '26', '14', '228', '14685', '6', '548', '9', '5', '84', '5', '58', '99', '6466', '9', '38', '45', '3', '247', '53', '6', '4', '3396', '98', '577', '4', '42', '7', '87', '121', '12', '3', '4', '77', '7', '57', '458', '276', '3541', '46', '698', '7732', '5677', '16126', '7', '6', '33', '13', '6', '7', '7', '8', '79', '5', '3', '72', '1', '3', '29', '6', '7516', '49', '9292', '9', '373', '9', '6', '64', '49', '388', '2', '1', '45', '34', '95', '8', '53', '9', '24', '4', '32', '532', '36', '95445', '8279', '9', '89', '898', '4', '2', '687', '7', '719', '3', '45', '1', '685', '1', '8', '697', '7', '82', '722', '1', '9', '34498', '9', '1', '23', '7', '5789', '5', '8', '36', '3', '29', '43', '167', '7', '5', '58', '7', '38', '4', '34', '75', '547', '628', '1', '838', '81', '6', '2', '98', '6', '75', '1', '2159', '1', '8', '1', '3', '1513', '391', '6882', '71', '3', '24', '452', '99', '4', '8483', '99', '3', '2', '82', '7', '946', '14', '96', '53', '77', '417', '57', '5', '78', '7', '4716', '9', '824', '1', '36818', '27', '64', '2', '81', '65', '672', '49', '517', '5', '1', '44', '1', '285', '98', '4', '71653', '444', '685', '2', '6', '38', '4', '346', '9', '45', '1548', '885', '676', '96', '91', '52', '2778', '9', '9', '72', '53', '75', '1', '49', '14', '74', '4', '325', '7', '22', '844', '6513', '15', '527', '7113', '5', '78', '41', '5644', '1', '3166', '785', '17', '9', '55', '82', '91', '49', '37', '4844', '57', '4', '85', '22', '81', '7', '88', '239', '59', '43', '812', '378', '46', '566', '583', '7', '7494', '758', '271', '9', '522', '2', '65', '347', '6', '6', '58', '369', '7635', '38', '93', '71', '178', '2', '481154', '4', '669', '4', '1596', '6', '3855', '8', '132', '73', '19', '3', '1', '995392', '9', '579', '1', '4615', '465', '379', '49666', '988', '132', '765745', '663', '433', '177', '4847', '5212', '89', '163', '83', '6249', '44', '5', '6', '28', '25371', '671', '159', '7', '2', '4', '6813', '4', '875254', '64', '9', '584', '489', '5', '873', '39', '8', '3', '2', '7', '6', '852', '725', '2', '29', '1', '3', '6', '1328', '8', '126318', '3', '29', '13', '34', '8', '1', '2296', '7', '9', '45', '21', '9', '3', '644', '31', '16', '1571', '199', '1', '41', '7', '8', '45', '3', '15', '87', '44', '236', '48', '34', '1', '21', '1', '41', '67', '52788', '6', '229', '691', '1', '2', '331', '85', '66', '83', '5', '7', '95', '874', '6854', '1182', '78', '15', '6', '5', '245', '1196', '5', '2', '6', '465', '65341', '9873', '5', '6', '36', '654', '37', '58', '435', '78', '383', '4', '5', '44', '33', '34', '67', '6', '211', '4', '1', '33', '1', '3', '8', '3', '2', '6', '5', '83', '26', '4', '47', '9', '548', '2', '91', '31', '263', '525', '96', '35', '9', '6434', '492', '25', '15', '18', '1', '2', '9', '9', '2', '6', '892', '16', '6', '3', '692', '1663', '411', '72', '3', '34', '54', '6935', '85', '4', '32', '171', '717', '247', '431', '7547', '338', '41', '4', '8882', '77', '1918', '5', '3', '39', '8147', '13', '742', '977', '5', '51199', '7', '6', '699', '99', '2', '87653', '1749', '2377', '27', '856', '169', '8', '5', '9', '89', '9', '14', '2', '32', '62', '86', '3665', '64', '263', '15279', '186', '4', '5', '16', '44', '8', '611', '34', '9', '9', '6', '19', '7419', '72', '1', '1', '59', '66', '19973', '26', '594', '6', '516', '31', '9', '6', '4', '86', '95', '6', '6591', '7', '2', '5', '691', '466', '7', '341', '1', '914', '268', '8219', '579', '951', '36', '18', '8', '3', '1', '64', '45269', '785', '678', '1', '1', '1283', '2', '71264', '1', '9', '5', '8', '8', '92', '1', '5', '73', '43', '8', '38', '91', '23', '64', '455', '2', '798', '93', '5929', '9', '9', '67', '99', '793', '14', '4', '2', '289', '18', '65963', '36', '74', '291', '49', '81', '3', '72', '5562', '99175', '87', '89', '12', '5', '249', '6', '6', '16', '177', '1741', '5', '4', '4', '547', '5', '5', '1', '322', '75', '71', '1', '26', '8', '11545', '836', '81', '998', '76', '4', '2', '54', '45', '12', '84', '1', '42', '13', '128', '97', '1', '4', '7', '683', '257', '2447', '67', '474', '1', '2', '4', '4', '53298', '361', '4', '2', '9', '6', '14', '8976', '611', '42', '226', '43', '26', '626', '99', '32', '77', '5', '41', '14', '42', '35', '1', '39', '5', '23', '2941', '6', '6361', '4', '47', '78', '991', '232', '162', '776', '82', '884', '97', '72', '532', '16', '6361', '394', '2', '238', '723', '57', '1', '54', '719', '28', '221565', '2683', '5', '869', '36', '1', '9', '7', '35', '6', '26', '1', '1487', '6', '69', '8', '1', '27', '3', '9', '73', '7', '875', '9252', '68', '2', '8671', '75', '92', '9', '4', '6', '3', '117', '76', '532', '8274', '36', '44', '84', '97', '81', '8', '497', '1', '8', '47', '614', '87122', '1', '9', '86', '291', '829', '68', '16', '384', '7', '252', '637', '46623', '8', '89', '36', '69', '888', '4', '2', '9', '88', '9', '9', '2', '2', '366', '869', '75', '49', '381', '6', '427', '3518', '755', '85', '4171', '76', '61', '23312', '1', '61', '9', '49', '888', '488995', '1', '41', '734177', '94', '6', '268', '3159', '5', '546', '652', '9', '93', '985', '745', '1', '857', '9', '5364', '74', '11', '32', '16', '5', '34', '117', '667', '14', '756', '6', '762', '764', '6', '833', '8592', '5545', '961', '4', '7', '9', '8', '72', '7131', '524', '5', '61', '49', '4782', '6', '7', '451486', '6', '7', '43', '725', '7', '2246', '74', '63', '4', '956', '125', '32', '1', '17', '57', '3', '521', '1', '524', '7', '796', '69', '38', '2614', '3', '859', '18', '941', '2', '686', '715', '9', '6', '5', '7', '34', '815', '9', '748', '6115', '8', '5', '767', '84', '4', '162', '31628', '8367', '25', '92', '9', '964', '8', '89', '8', '6', '3652', '8', '141', '5', '6', '24', '3', '77', '5488', '272', '4', '8', '361']\n"
     ]
    }
   ],
   "source": [
    "# Instantiate empty dictionary and list for later use to hold the numbers being extracted\n",
    "my_dict = {}\n",
    "my_list = []\n",
    "\n",
    "# For each element in the list\n",
    "for element in list_df:\n",
    "\n",
    "    # Separate each letter and number out by itself\n",
    "    split_word = ([*element])\n",
    "\n",
    "    # Instantiate a key in for each element\n",
    "    my_dict[element] = \"\"\n",
    "\n",
    "    # Loop through each letter in the word\n",
    "    for number in split_word:\n",
    "\n",
    "        # Only continue if a number is recognised\n",
    "        if number.isdigit():\n",
    "\n",
    "            # Add the number as a value to the dictionary Key where the key is the entire element name\n",
    "            my_dict[element] += number\n",
    "    \n",
    "    # Append all the final numbers to the list\n",
    "    my_list.append(my_dict[element])\n",
    "\n",
    "# Print the Dictionary and list with which we will work next\n",
    "print(my_dict)\n",
    "print(my_list)\n",
    "            "
   ]
  },
  {
   "cell_type": "markdown",
   "metadata": {},
   "source": [
    "We can see above that the `my_list` now holds the numbers for each code. We can now start the next operation where we will Only extract the first and last numbers from each one of the elements. Note that if there is only 1 number in the code then the number will be repeated."
   ]
  },
  {
   "cell_type": "code",
   "execution_count": 7,
   "metadata": {},
   "outputs": [
    {
     "name": "stdout",
     "output_type": "stream",
     "text": [
      "{'5237': '57', '621': '61', '27': '27', '2': '22', '9': '99', '73': '73', '65': '65', '1': '11', '43': '43', '893': '83', '47574': '44', '41': '41', '5': '55', '12': '12', '19': '19', '3': '33', '6': '66', '4': '44', '4369': '49', '4945': '45', '93': '93', '557': '57', '7': '77', '71': '71', '88': '88', '141': '11', '739': '79', '8': '88', '44': '44', '15': '15', '74': '74', '2944': '24', '695': '65', '77': '77', '3827': '37', '52': '52', '323': '33', '17': '17', '52939': '59', '23': '23', '54': '54', '85': '85', '33': '33', '14987': '17', '6866': '66', '53': '53', '76': '76', '417': '47', '26': '26', '14': '14', '228': '28', '14685': '15', '548': '58', '84': '84', '58': '58', '99': '99', '6466': '66', '38': '38', '45': '45', '247': '27', '3396': '36', '98': '98', '577': '57', '42': '42', '87': '87', '121': '11', '57': '57', '458': '48', '276': '26', '3541': '31', '46': '46', '698': '68', '7732': '72', '5677': '57', '16126': '16', '13': '13', '79': '79', '72': '72', '29': '29', '7516': '76', '49': '49', '9292': '92', '373': '33', '64': '64', '388': '38', '34': '34', '95': '95', '24': '24', '32': '32', '532': '52', '36': '36', '95445': '95', '8279': '89', '89': '89', '898': '88', '687': '67', '719': '79', '685': '65', '697': '67', '82': '82', '722': '72', '34498': '38', '5789': '59', '167': '17', '75': '75', '547': '57', '628': '68', '838': '88', '81': '81', '2159': '29', '1513': '13', '391': '31', '6882': '62', '452': '42', '8483': '83', '946': '96', '96': '96', '78': '78', '4716': '46', '824': '84', '36818': '38', '672': '62', '517': '57', '285': '25', '71653': '73', '444': '44', '346': '36', '1548': '18', '885': '85', '676': '66', '91': '91', '2778': '28', '325': '35', '22': '22', '844': '84', '6513': '63', '527': '57', '7113': '73', '5644': '54', '3166': '36', '785': '75', '55': '55', '37': '37', '4844': '44', '239': '29', '59': '59', '812': '82', '378': '38', '566': '56', '583': '53', '7494': '74', '758': '78', '271': '21', '522': '52', '347': '37', '369': '39', '7635': '75', '178': '18', '481154': '44', '669': '69', '1596': '16', '3855': '35', '132': '12', '995392': '92', '579': '59', '4615': '45', '465': '45', '379': '39', '49666': '46', '988': '98', '765745': '75', '663': '63', '433': '43', '177': '17', '4847': '47', '5212': '52', '163': '13', '83': '83', '6249': '69', '28': '28', '25371': '21', '671': '61', '159': '19', '6813': '63', '875254': '84', '584': '54', '489': '49', '873': '83', '39': '39', '852': '82', '725': '75', '1328': '18', '126318': '18', '2296': '26', '21': '21', '644': '64', '31': '31', '16': '16', '1571': '11', '199': '19', '236': '26', '48': '48', '67': '67', '52788': '58', '229': '29', '691': '61', '331': '31', '66': '66', '874': '84', '6854': '64', '1182': '12', '245': '25', '1196': '16', '65341': '61', '9873': '93', '654': '64', '435': '45', '383': '33', '211': '21', '47': '47', '263': '23', '525': '55', '35': '35', '6434': '64', '492': '42', '25': '25', '18': '18', '892': '82', '692': '62', '1663': '13', '411': '41', '6935': '65', '171': '11', '717': '77', '431': '41', '7547': '77', '338': '38', '8882': '82', '1918': '18', '8147': '87', '742': '72', '977': '97', '51199': '59', '699': '69', '87653': '83', '1749': '19', '2377': '27', '856': '86', '169': '19', '62': '62', '86': '86', '3665': '35', '15279': '19', '186': '16', '611': '61', '7419': '79', '19973': '13', '594': '54', '516': '56', '6591': '61', '466': '46', '341': '31', '914': '94', '268': '28', '8219': '89', '951': '91', '45269': '49', '678': '68', '1283': '13', '71264': '74', '92': '92', '455': '45', '798': '78', '5929': '59', '793': '73', '289': '29', '65963': '63', '291': '21', '5562': '52', '99175': '95', '249': '29', '1741': '11', '322': '32', '11545': '15', '836': '86', '998': '98', '128': '18', '97': '97', '683': '63', '257': '27', '2447': '27', '474': '44', '53298': '58', '361': '31', '8976': '86', '226': '26', '626': '66', '2941': '21', '6361': '61', '991': '91', '232': '22', '162': '12', '776': '76', '884': '84', '394': '34', '238': '28', '723': '73', '221565': '25', '2683': '23', '869': '89', '1487': '17', '69': '69', '875': '85', '9252': '92', '68': '68', '8671': '81', '117': '17', '8274': '84', '497': '47', '614': '64', '87122': '82', '829': '89', '384': '34', '252': '22', '637': '67', '46623': '43', '888': '88', '366': '36', '381': '31', '427': '47', '3518': '38', '755': '75', '4171': '41', '61': '61', '23312': '22', '488995': '45', '734177': '77', '94': '94', '3159': '39', '546': '56', '652': '62', '985': '95', '745': '75', '857': '87', '5364': '54', '11': '11', '667': '67', '756': '76', '762': '72', '764': '74', '833': '83', '8592': '82', '5545': '55', '961': '91', '7131': '71', '524': '54', '4782': '42', '451486': '46', '2246': '26', '63': '63', '956': '96', '125': '15', '521': '51', '796': '76', '2614': '24', '859': '89', '941': '91', '686': '66', '715': '75', '815': '85', '748': '78', '6115': '65', '767': '77', '31628': '38', '8367': '87', '964': '94', '3652': '32', '5488': '58', '272': '22'}\n",
      "['57', '61', '27', '22', '99', '73', '22', '65', '11', '43', '83', '44', '41', '55', '12', '19', '33', '66', '55', '41', '44', '49', '45', '93', '44', '11', '55', '57', '77', '71', '88', '11', '99', '79', '11', '88', '22', '44', '15', '74', '22', '44', '33', '24', '65', '77', '37', '52', '33', '17', '59', '23', '54', '44', '99', '85', '77', '33', '22', '11', '17', '11', '66', '66', '27', '88', '11', '11', '53', '88', '77', '76', '47', '26', '14', '28', '15', '66', '58', '99', '55', '84', '55', '58', '99', '66', '99', '38', '45', '33', '27', '53', '66', '44', '36', '98', '57', '44', '42', '77', '87', '11', '12', '33', '44', '77', '77', '57', '48', '26', '31', '46', '68', '72', '57', '16', '77', '66', '33', '13', '66', '77', '77', '88', '79', '55', '33', '72', '11', '33', '29', '66', '76', '49', '92', '99', '33', '99', '66', '64', '49', '38', '22', '11', '45', '34', '95', '88', '53', '99', '24', '44', '32', '52', '36', '95', '89', '99', '89', '88', '44', '22', '67', '77', '79', '33', '45', '11', '65', '11', '88', '67', '77', '82', '72', '11', '99', '38', '99', '11', '23', '77', '59', '55', '88', '36', '33', '29', '43', '17', '77', '55', '58', '77', '38', '44', '34', '75', '57', '68', '11', '88', '81', '66', '22', '98', '66', '75', '11', '29', '11', '88', '11', '33', '13', '31', '62', '71', '33', '24', '42', '99', '44', '83', '99', '33', '22', '82', '77', '96', '14', '96', '53', '77', '47', '57', '55', '78', '77', '46', '99', '84', '11', '38', '27', '64', '22', '81', '65', '62', '49', '57', '55', '11', '44', '11', '25', '98', '44', '73', '44', '65', '22', '66', '38', '44', '36', '99', '45', '18', '85', '66', '96', '91', '52', '28', '99', '99', '72', '53', '75', '11', '49', '14', '74', '44', '35', '77', '22', '84', '63', '15', '57', '73', '55', '78', '41', '54', '11', '36', '75', '17', '99', '55', '82', '91', '49', '37', '44', '57', '44', '85', '22', '81', '77', '88', '29', '59', '43', '82', '38', '46', '56', '53', '77', '74', '78', '21', '99', '52', '22', '65', '37', '66', '66', '58', '39', '75', '38', '93', '71', '18', '22', '44', '44', '69', '44', '16', '66', '35', '88', '12', '73', '19', '33', '11', '92', '99', '59', '11', '45', '45', '39', '46', '98', '12', '75', '63', '43', '17', '47', '52', '89', '13', '83', '69', '44', '55', '66', '28', '21', '61', '19', '77', '22', '44', '63', '44', '84', '64', '99', '54', '49', '55', '83', '39', '88', '33', '22', '77', '66', '82', '75', '22', '29', '11', '33', '66', '18', '88', '18', '33', '29', '13', '34', '88', '11', '26', '77', '99', '45', '21', '99', '33', '64', '31', '16', '11', '19', '11', '41', '77', '88', '45', '33', '15', '87', '44', '26', '48', '34', '11', '21', '11', '41', '67', '58', '66', '29', '61', '11', '22', '31', '85', '66', '83', '55', '77', '95', '84', '64', '12', '78', '15', '66', '55', '25', '16', '55', '22', '66', '45', '61', '93', '55', '66', '36', '64', '37', '58', '45', '78', '33', '44', '55', '44', '33', '34', '67', '66', '21', '44', '11', '33', '11', '33', '88', '33', '22', '66', '55', '83', '26', '44', '47', '99', '58', '22', '91', '31', '23', '55', '96', '35', '99', '64', '42', '25', '15', '18', '11', '22', '99', '99', '22', '66', '82', '16', '66', '33', '62', '13', '41', '72', '33', '34', '54', '65', '85', '44', '32', '11', '77', '27', '41', '77', '38', '41', '44', '82', '77', '18', '55', '33', '39', '87', '13', '72', '97', '55', '59', '77', '66', '69', '99', '22', '83', '19', '27', '27', '86', '19', '88', '55', '99', '89', '99', '14', '22', '32', '62', '86', '35', '64', '23', '19', '16', '44', '55', '16', '44', '88', '61', '34', '99', '99', '66', '19', '79', '72', '11', '11', '59', '66', '13', '26', '54', '66', '56', '31', '99', '66', '44', '86', '95', '66', '61', '77', '22', '55', '61', '46', '77', '31', '11', '94', '28', '89', '59', '91', '36', '18', '88', '33', '11', '64', '49', '75', '68', '11', '11', '13', '22', '74', '11', '99', '55', '88', '88', '92', '11', '55', '73', '43', '88', '38', '91', '23', '64', '45', '22', '78', '93', '59', '99', '99', '67', '99', '73', '14', '44', '22', '29', '18', '63', '36', '74', '21', '49', '81', '33', '72', '52', '95', '87', '89', '12', '55', '29', '66', '66', '16', '17', '11', '55', '44', '44', '57', '55', '55', '11', '32', '75', '71', '11', '26', '88', '15', '86', '81', '98', '76', '44', '22', '54', '45', '12', '84', '11', '42', '13', '18', '97', '11', '44', '77', '63', '27', '27', '67', '44', '11', '22', '44', '44', '58', '31', '44', '22', '99', '66', '14', '86', '61', '42', '26', '43', '26', '66', '99', '32', '77', '55', '41', '14', '42', '35', '11', '39', '55', '23', '21', '66', '61', '44', '47', '78', '91', '22', '12', '76', '82', '84', '97', '72', '52', '16', '61', '34', '22', '28', '73', '57', '11', '54', '79', '28', '25', '23', '55', '89', '36', '11', '99', '77', '35', '66', '26', '11', '17', '66', '69', '88', '11', '27', '33', '99', '73', '77', '85', '92', '68', '22', '81', '75', '92', '99', '44', '66', '33', '17', '76', '52', '84', '36', '44', '84', '97', '81', '88', '47', '11', '88', '47', '64', '82', '11', '99', '86', '21', '89', '68', '16', '34', '77', '22', '67', '43', '88', '89', '36', '69', '88', '44', '22', '99', '88', '99', '99', '22', '22', '36', '89', '75', '49', '31', '66', '47', '38', '75', '85', '41', '76', '61', '22', '11', '61', '99', '49', '88', '45', '11', '41', '77', '94', '66', '28', '39', '55', '56', '62', '99', '93', '95', '75', '11', '87', '99', '54', '74', '11', '32', '16', '55', '34', '17', '67', '14', '76', '66', '72', '74', '66', '83', '82', '55', '91', '44', '77', '99', '88', '72', '71', '54', '55', '61', '49', '42', '66', '77', '46', '66', '77', '43', '75', '77', '26', '74', '63', '44', '96', '15', '32', '11', '17', '57', '33', '51', '11', '54', '77', '76', '69', '38', '24', '33', '89', '18', '91', '22', '66', '75', '99', '66', '55', '77', '34', '85', '99', '78', '65', '88', '55', '77', '84', '44', '12', '38', '87', '25', '92', '99', '94', '88', '89', '88', '66', '32', '88', '11', '55', '66', '24', '33', '77', '58', '22', '44', '88', '31']\n",
      "The length of the final list of numbers should be 1000. Let's see if this matches with the value we got of: 1000\n",
      "The final answer to the first part of Day 1 is: 53386\n"
     ]
    }
   ],
   "source": [
    "# Instantiate empty final list, dictionary and value for later use to hold the numbers being extracted\n",
    "final_dict = {}\n",
    "final_list = []\n",
    "final_value = 0\n",
    "\n",
    "\n",
    "# For each number in the list\n",
    "for number in my_list:\n",
    "\n",
    "    # Instantiate each key in dict\n",
    "    final_dict[number] = ''\n",
    "\n",
    "    # Separate each number out by itself\n",
    "    split_number= ([*number])\n",
    "\n",
    "    # Ensure that if the number is the only one in the code then it needs to be taken twice i.e. 7 means the total number is 77\n",
    "    if len(split_number) == 1:\n",
    "        final_dict[number] += split_number[0]*2\n",
    "\n",
    "    # Take the first and last number out of each dictionary value\n",
    "    else:\n",
    "        length = len(split_number)\n",
    "        final_dict[number] += split_number[0]\n",
    "        final_dict[number] += split_number[length-1]\n",
    "\n",
    "# Append all the vaules in the dictionary to a list so they can be summed \n",
    "    final_list.append(final_dict[number])\n",
    "\n",
    "# Start the for loop to extract the final numbers and add them\n",
    "for number in final_list:\n",
    "    \n",
    "    # Convert the numbers to integers as they are currently string data type and cannot be added\n",
    "    number = int(number)\n",
    "\n",
    "    # Add all the numerical values\n",
    "    final_value += number\n",
    "\n",
    "print(final_dict)\n",
    "print(final_list)\n",
    "print(f\"The length of the final list of numbers should be 1000. Let's see if this matches with the value we got of: {len(final_list)}\")\n",
    "print(f\"The final answer to the first part of Day 1 is: {final_value}\")\n"
   ]
  },
  {
   "cell_type": "markdown",
   "metadata": {},
   "source": [
    "The answer above is correct which leads to the second part of day 1 puzzle. This is given below:\n"
   ]
  },
  {
   "cell_type": "markdown",
   "metadata": {},
   "source": [
    "A more efficient way done by Neil Thistlethwaite in [this video](https://www.youtube.com/watch?v=R8qGPFRksCY&t=473s&ab_channel=NeilThistlethwaite) :\n"
   ]
  },
  {
   "cell_type": "code",
   "execution_count": 10,
   "metadata": {},
   "outputs": [
    {
     "name": "stdout",
     "output_type": "stream",
     "text": [
      "53386\n"
     ]
    }
   ],
   "source": [
    "# Opening data using file stream where you open the txt file as a variable. In this place the f is opening the whole file\n",
    "with open(\"data/day_1_source.txt\") as f:\n",
    "\n",
    "    # Reading in the file as variable s\n",
    "    s = f.read()\n",
    "\n",
    "# Instantiating variable which will be used to add all values in the end\n",
    "r = 0\n",
    "\n",
    "# Separate each line in variable s and strip it to remove trailing spaces and separate it by line\n",
    "for x in s.strip().split(\"\\n\"):\n",
    "\n",
    "    # Instantiate first and last variables to fill with first and last numbers\n",
    "    fst = None\n",
    "    lst = None\n",
    "\n",
    "    # For each letter in the line\n",
    "    for y in x:\n",
    "\n",
    "        # Check if the letter is a digit\n",
    "        if y.isdigit():\n",
    "\n",
    "            # If the letter is a digit then make it the last digit automatically (this ensures that any final numbers automatically become last digit)\n",
    "            lst = y\n",
    "\n",
    "            # Automatically make the first digit y and don't overwrite it as it won't be None second iteration onwards\n",
    "            if fst is None:\n",
    "                fst = y\n",
    "\n",
    "    # Add all the first and last variables\n",
    "    r += int(fst + lst)\n",
    "\n",
    "print(r)\n",
    "\n"
   ]
  },
  {
   "cell_type": "markdown",
   "metadata": {},
   "source": [
    "Above is a much faster and more efficient code method not requiring any external libraries.\n",
    "\n",
    "Let's move on to part 2."
   ]
  },
  {
   "cell_type": "markdown",
   "metadata": {},
   "source": [
    "\n",
    "--- Part Two ---  \n",
    "The calculation needs to be changed as there are hidden numbers in the text. For example:  \n",
    "\n",
    "ljjltwo9  \n",
    "eighadsfjtwoadfdsathree  \n",
    "abc12txyzthree  \n",
    "\n",
    "So with this the values are 19, 83, 13. These can be added to  115\n",
    "\n",
    "Let's get the sum of the calibration values"
   ]
  },
  {
   "cell_type": "code",
   "execution_count": 9,
   "metadata": {},
   "outputs": [],
   "source": [
    "ref = {'zero':0, 'one':1, 'two':2, 'three':3, 'four':4, 'five':5, 'six':6, 'seven':7, 'eight':8, 'nine':9}\n",
    "\n",
    "\n",
    "\n",
    "\n"
   ]
  },
  {
   "cell_type": "code",
   "execution_count": null,
   "metadata": {},
   "outputs": [],
   "source": []
  }
 ],
 "metadata": {
  "kernelspec": {
   "display_name": "Python 3",
   "language": "python",
   "name": "python3"
  },
  "language_info": {
   "codemirror_mode": {
    "name": "ipython",
    "version": 3
   },
   "file_extension": ".py",
   "mimetype": "text/x-python",
   "name": "python",
   "nbconvert_exporter": "python",
   "pygments_lexer": "ipython3",
   "version": "3.9.12"
  }
 },
 "nbformat": 4,
 "nbformat_minor": 2
}
