{
 "cells": [
  {
   "cell_type": "markdown",
   "metadata": {},
   "source": [
    "--- Day 2: Cube Conundrum ---\n",
    "\n",
    "For Day 2 part 1 the problem:\n",
    "The detailed intro can be found on AoC website, day 1 [here](https://adventofcode.com/2023)\n",
    "\n",
    "In short the problem is such that a number of different colours items are in a bag and in each iteration a bunch of those are removed from the bag. \n",
    "\n",
    "Example:  \n",
    "Iteration 1: 2 green, 20 red; 4 red; 1 red, 3 green, 7 blue; 19 green  \n",
    "Iteration 2: 1 red, 2 green; 3 green, 4 blue, 1 red; 1 green, 1 blue  \n",
    "Iteration 3: 8 green, 6 blue, 20 red; 5 red, 4 blue, 13 green; 6 blue, 3 red  \n",
    "  \n",
    "We need to figure out which iterations are possible given that the bag contained only 8 red cubes, 14 green cubes, and 15 blue cubes?\n",
    "\n",
    "In this case Iterations 2 and 3 are possible. We now have to add up the Iteration number of the iterations that are possible, therefore,\n",
    "we have to add up those numbers and in this case the answer is 5.\n",
    "\n",
    "\n",
    "In this case determine which games (iterations) would have been possible if the bag had been loaded with only `12 red cubes, 13 green cubes, and 14 blue cubes`. What is the sum of the IDs (Iteration Numbers) of those games?\n",
    "\n",
    "Let's start by loading the data how we learnt it in day 1 code from Niel."
   ]
  },
  {
   "cell_type": "code",
   "execution_count": 1,
   "metadata": {},
   "outputs": [
    {
     "name": "stdout",
     "output_type": "stream",
     "text": [
      "Game 1: 12 blue; 2 green, 13 blue, 19 red; 13 red, 3 green, 14 blue\n",
      "Game 2: 12 blue, 1 red, 1 green; 1 red, 12 blue, 3 green; 5 green, 1 red, 9 blue; 1 red, 7 blue, 4 green\n",
      "\n"
     ]
    }
   ],
   "source": [
    "# Opening data using file stream where you open the txt file as a variable. \n",
    "# The s variable is being used to read the data. An example is being shown of the first 2 lines (hardcoded)\n",
    "s = open(\"data/day_2_data.txt\").read()\n",
    "print(s[:173])\n",
    "\n"
   ]
  },
  {
   "cell_type": "markdown",
   "metadata": {},
   "source": [
    "We can now split the data into a list by splitting it on the next line variable `\\n`. This will turn it into a list where each element is a Game. "
   ]
  },
  {
   "cell_type": "code",
   "execution_count": 2,
   "metadata": {},
   "outputs": [
    {
     "name": "stdout",
     "output_type": "stream",
     "text": [
      "['Game 1: 12 blue; 2 green, 13 blue, 19 red; 13 red, 3 green, 14 blue', 'Game 2: 12 blue, 1 red, 1 green; 1 red, 12 blue, 3 green; 5 green, 1 red, 9 blue; 1 red, 7 blue, 4 green']\n"
     ]
    }
   ],
   "source": [
    "# Split s variable based on new line\n",
    "s = s.split(\"\\n\")\n",
    "\n",
    "# print 2 elements as an example\n",
    "print(s[:2])"
   ]
  },
  {
   "cell_type": "markdown",
   "metadata": {},
   "source": [
    "Now a dictionary (hashmap) can be created where the Game number is the Key and the items extracted are the values."
   ]
  },
  {
   "cell_type": "code",
   "execution_count": 21,
   "metadata": {},
   "outputs": [
    {
     "name": "stdout",
     "output_type": "stream",
     "text": [
      "These are the outputs for 3 of the games namely 1, 10 and 100:\n",
      "[['12 blue'], ['2 green', '13 blue', '19 red'], ['13 red', '3 green', '14 blue']]\n",
      "[['8 green', '14 blue'], ['1 red', '6 blue', '9 green'], ['6 blue', '4 green', '1 red'], ['16 green', '9 blue']]\n",
      "[['8 red', '4 blue', '4 green'], ['10 blue', '3 red', '4 green'], ['10 green', '4 red'], ['18 red', '9 blue', '2 green'], ['12 red', '4 green', '2 blue']]\n"
     ]
    }
   ],
   "source": [
    "# Create a Dictionary for storing the data\n",
    "hm = {}\n",
    "\n",
    "\n",
    "# For game and character in the data\n",
    "for g,c in enumerate(s):\n",
    "\n",
    "    # Add 1 to game as enumerate is 0 indexed and our data needs to be 1 indexed\n",
    "    g = g+1\n",
    "\n",
    "    # If game value is single digit \n",
    "    if g < 10:\n",
    "\n",
    "        # Character is a list of characters\n",
    "        c = [c]\n",
    "\n",
    "        # c is replaced by all values after character 8\n",
    "        c = c[0][8:]\n",
    "\n",
    "        # Split the list based on semicolon for each iteration making each\n",
    "        # element an iteration in a game\n",
    "        c = c.split(\"; \")\n",
    "\n",
    "        # Create a list of lists where the outer list is the\n",
    "        # game and inner lists are the iterations of pulls\n",
    "        j = [x.split(\", \") for x in c]\n",
    "\n",
    "        # Add to hashmap\n",
    "        hm[g] = j\n",
    "\n",
    "    # Do the same as above however for double digit game values the character \n",
    "    # after which the game iterations are chosen, increases by 1\n",
    "    elif (g>9) & (g <= 99):\n",
    "        c = [c]\n",
    "        c = c[0][9:]\n",
    "        c = c.split(\"; \")\n",
    "        j = [x.split(\", \") for x in c]\n",
    "        hm[g] = j\n",
    "\n",
    "    else:\n",
    "        c = [c]\n",
    "        c = c[0][10:]\n",
    "        c = c.split(\"; \")\n",
    "        j = [x.split(\", \") for x in c]\n",
    "        hm[g] = j        \n",
    "\n",
    "print(\"These are the outputs for 3 of the games namely 1, 10 and 100:\")\n",
    "print(hm[1])\n",
    "print(hm[10])\n",
    "print(hm[100])"
   ]
  },
  {
   "cell_type": "markdown",
   "metadata": {},
   "source": [
    "We now have a dictionary that conatins information related to each game and the cubes showed in each pull of the game. We can now iterate the total number of cubes requested and remove any games from the dictionary that have more than that amount: Namely `12 red cubes, 13 green cubes, and 14 blue cubes`. Below is the messy code where the loops were tested using print statements. To see the cleaner version of the code, go to the code cell after the one below. The one below is commented out entirely as the output will be too long and therefore disruptive on github."
   ]
  },
  {
   "cell_type": "code",
   "execution_count": 4,
   "metadata": {},
   "outputs": [],
   "source": [
    "# # Instantiate a list where we will add the keys (ID's) of the games that have appropriate number of cubes\n",
    "# my_list = []\n",
    "\n",
    "# # For key (game ID) and value (Game iterations) in hm\n",
    "# for k, v in hm.items():\n",
    "#     y = 1\n",
    "\n",
    "#     # For each Iteration in game\n",
    "#     for pull in v:\n",
    "#           print(\"__________________________\")\n",
    "#           print(f\"pull:{pull}, Key:{k}\")\n",
    "#           print(f\"y_pull:{y}, Key:{k}\")\n",
    "          \n",
    "\n",
    "#           # For each colour pull in iteration\n",
    "#           for colour in pull:\n",
    "#             print(f\"colour:{colour}, Key:{k}\")\n",
    "#             if y == 1:\n",
    "                  \n",
    "#                   print(f\"y_colour:{y}, Key:{k}\")\n",
    "\n",
    "#                   if colour.split(\" \")[1] == \"red\":\n",
    "#                         if (int(colour.split(\" \")[0]) > 12) & (y==1):\n",
    "#                               y=0\n",
    "#                         print(f\"y {y}\")\n",
    "                              \n",
    "#                   if colour.split(\" \")[1] == \"green\":\n",
    "#                         if (int(colour.split(\" \")[0]) > 13) & (y==1):\n",
    "#                               y=0\n",
    "#                         print(f\"y {y}\")\n",
    "\n",
    "#                   if colour.split(\" \")[1] == \"blue\":\n",
    "#                         if (int(colour.split(\" \")[0]) > 14) & (y==1):\n",
    "#                               y=0\n",
    "#                         print(f\"y {y}\")\n",
    "\n",
    "#     if y==1:\n",
    "#       my_list.append(k)\n",
    "#       print(my_list)\n",
    "\n",
    "# ans = 0\n",
    "# for l in my_list:\n",
    "#     ans += l\n",
    "# print(ans)\n"
   ]
  },
  {
   "cell_type": "code",
   "execution_count": 7,
   "metadata": {},
   "outputs": [
    {
     "name": "stdout",
     "output_type": "stream",
     "text": [
      "2416\n"
     ]
    }
   ],
   "source": [
    "# Instantiate a list where we will add the keys (ID's) of \n",
    "# the games that have appropriate number of cubes\n",
    "my_list = []\n",
    "ans = 0\n",
    "\n",
    "# For key (game ID) and value (Game iterations) in hm\n",
    "for k, v in hm.items():\n",
    "    \n",
    "    # Instantiate a variable (tt for threshold test) \n",
    "    # that will change to 0 any \n",
    "    # time a colour value is above threshold\n",
    "    tt = 1\n",
    "\n",
    "    # For each Iteration in game\n",
    "    for pull in v:\n",
    "\n",
    "          # For each colour pull in iteration\n",
    "          for colour in pull:\n",
    "\n",
    "            #Ensure tt is equal to 1 otherwise skip altogether\n",
    "            if tt == 1:\n",
    "                  \n",
    "                  # Check colour by splitting each variable by space (\" \")\n",
    "                  # the 0th element is the number and 1th element is the colour name\n",
    "                  # In this case if colour is red then check threshold for size\n",
    "                  # If threshold doesn't match then turn y to 0\n",
    "                  if colour.split(\" \")[1] == \"red\":\n",
    "                        if int(colour.split(\" \")[0]) > 12:\n",
    "                              tt=0\n",
    "                              \n",
    "                  if colour.split(\" \")[1] == \"green\":\n",
    "                        if int(colour.split(\" \")[0]) > 13:\n",
    "                              tt=0\n",
    "\n",
    "                  if colour.split(\" \")[1] == \"blue\":\n",
    "                        if int(colour.split(\" \")[0]) > 14:\n",
    "                              tt=0\n",
    "    \n",
    "    # if overall tt is equal to 1, then append to ID (Key) to an empty list\n",
    "    if tt==1:\n",
    "      my_list.append(k)\n",
    "\n",
    "# For all the values added to the list, add all the values in the list\n",
    "ans = sum(my_list)\n",
    "print(ans)\n"
   ]
  },
  {
   "cell_type": "markdown",
   "metadata": {},
   "source": [
    "Above is the final result for Part 1 of Day 2 done by me. As with day 1, let's look at a much more efficient layout of the code done by Neil Thistlethwaite in [this video](https://www.youtube.com/watch?v=zq4ckL36kqk&ab_channel=NeilThistlethwaite) so we can learn from it!\n"
   ]
  },
  {
   "cell_type": "code",
   "execution_count": 15,
   "metadata": {},
   "outputs": [
    {
     "name": "stdout",
     "output_type": "stream",
     "text": [
      "2416\n"
     ]
    }
   ],
   "source": [
    "# Instantiate the variable for the final answer.\n",
    "ans = 0\n",
    "\n",
    "# Use enumerate to get the key (game id) and value\n",
    "# (Cube colours and iterations) for each of the pulls.\n",
    "for i,x in enumerate(s):\n",
    "\n",
    "    # Use 2 characters after the colon to get the game iteration pulls\n",
    "    x = x[x.find(\": \")+2:]\n",
    "\n",
    "    # Create a list split on ; where all the games are in a list\n",
    "    # and the pulls are separated elements\n",
    "    x = x.split(\";\")\n",
    "\n",
    "\n",
    "    # Create a list of lists where the outer list is the\n",
    "    # game and inner lists are the iterations of pulls\n",
    "    y = [a.split(\", \") for a in x]\n",
    "\n",
    "    # Instantiate a boolean variable\n",
    "    f = True\n",
    "\n",
    "    # For each iteration in each game\n",
    "    for g in y:\n",
    "\n",
    "        # Instantiate a dictionary\n",
    "        m = {}\n",
    "\n",
    "        # For each pull colour pulled out\n",
    "        for gg in g:\n",
    "            \n",
    "            # a1 will be colour value and a2 the colour name\n",
    "            # after splitting based on a space\n",
    "            a1,a2 = gg.strip().split(\" \")\n",
    "\n",
    "            # For the key of Colour name, add the Key of colour Value\n",
    "            m[a2] = int(a1)\n",
    "\n",
    "        # If colour exists in dictionary \n",
    "        # and if the colour is bigger than threshold\n",
    "        # convert f variable to False then exit the loop\n",
    "        if \"red\" in m and m['red'] > 12:\n",
    "            f = False\n",
    "            break\n",
    "\n",
    "        if \"green\" in m and m['green'] > 13:\n",
    "            f = False\n",
    "            break\n",
    "\n",
    "        if \"blue\" in m and m['blue'] > 14:\n",
    "            f = False\n",
    "            break\n",
    "\n",
    "    # If none of the above thresholds are broken, \n",
    "    # then f will remain True and in that case\n",
    "    if f:\n",
    "\n",
    "        # Add index + 1 (as enumerate is zero indexed)\n",
    "        ans += i + 1\n",
    "\n",
    "# Print the Answer\n",
    "print(ans)\n"
   ]
  },
  {
   "cell_type": "markdown",
   "metadata": {},
   "source": [
    "We can now attempt part 2 with the better understanding of efficient coding.\n",
    "\n",
    "--- Part Two ---\n",
    "\n",
    "In the second part we need to know what is the least number of cubes from each color that need to be present for the game to work. After finding this, multiply the number of cubes for each game, finally add all the powers.\n",
    "\n",
    "E.g.\n",
    "Game 1 : 8 green, 3 red, 6 blue; 3 green 6 red, 1 blue;  14 red\n",
    "Game 2 : 2 green; 8 green, 4 red; 1 blue\n",
    "\n",
    "Game 1 requires at least 8 green, 14 red and 6 blue. We then multiply \n",
    "Game 2 requires at least 8 green, 4 red and 1 blue\n",
    "\n",
    "For Game 1 we multiply 8 * 14 * 6 = 672\n",
    "For Game 2 we multiply 8 * 4 * 1 = 32\n",
    "\n",
    "Adding these up gives the answer: 704\n"
   ]
  },
  {
   "cell_type": "code",
   "execution_count": null,
   "metadata": {},
   "outputs": [],
   "source": []
  },
  {
   "cell_type": "code",
   "execution_count": null,
   "metadata": {},
   "outputs": [],
   "source": []
  },
  {
   "cell_type": "code",
   "execution_count": null,
   "metadata": {},
   "outputs": [],
   "source": []
  },
  {
   "cell_type": "code",
   "execution_count": null,
   "metadata": {},
   "outputs": [],
   "source": []
  }
 ],
 "metadata": {
  "kernelspec": {
   "display_name": "base",
   "language": "python",
   "name": "python3"
  },
  "language_info": {
   "codemirror_mode": {
    "name": "ipython",
    "version": 3
   },
   "file_extension": ".py",
   "mimetype": "text/x-python",
   "name": "python",
   "nbconvert_exporter": "python",
   "pygments_lexer": "ipython3",
   "version": "3.9.12"
  }
 },
 "nbformat": 4,
 "nbformat_minor": 2
}
