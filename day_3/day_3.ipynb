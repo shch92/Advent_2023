{
 "cells": [
  {
   "cell_type": "markdown",
   "metadata": {},
   "source": [
    "--- Day 3: Gear Ratios ---\n",
    "The puzzle is such that there are numbers with periods in the middle separating them. There are also symbols (other than periods) that exist around the input. Any number next to or around a symbol (above, below, beside or diagnolly next to) is considered a relevant number and should be summed to create the final answer. Note that for this calculation, periods are not considered symbols. An example is given below:\n",
    "\n",
    "Here is an example engine schematic:\n",
    "\n",
    "`320..150.. `  \n",
    "`..._......  `  \n",
    "`..13..700.  `  \n",
    "`......*...  `  \n",
    "`666$......  `  \n",
    "`.....-.12.`  \n",
    "\n",
    "In above example, 150 and 12 are not considered relevant numbers as they are not adjacent to a symbol: 150 (top right) and 12 (bottom right). All other numbers are adjacent to a symbol. They are summed as: 320 + 13 + 700 + 666 = 1699. \n",
    "\n",
    "The full input is in the data file in the data folder as part of day_3 folder. "
   ]
  },
  {
   "cell_type": "code",
   "execution_count": 27,
   "metadata": {},
   "outputs": [
    {
     "name": "stdout",
     "output_type": "stream",
     "text": [
      "_______________________________________________________________________\n",
      "['/', '@', '*', '$', '=', '&', '#', '-', '+', '%']\n",
      "There seem to be 10 symbols to look out for in the data (shown above).\n",
      "-----------------------------------------------------------------------\n"
     ]
    }
   ],
   "source": [
    "# Open the data, read it in, strip it of whitespaces\n",
    "# Finally split it based on next line variable.\n",
    "s = open(\"data/input.txt\").read().strip().split('\\n')\n",
    "\n",
    "# Let's extract the type of symbols in the data.\n",
    "symbol_list = []\n",
    "\n",
    "# for each element in the data list.\n",
    "for element in s:\n",
    "\n",
    "    # for each cahracter in the data.\n",
    "    for character in element:\n",
    "\n",
    "        # If the character is not numerical.\n",
    "        if not character.isdigit():\n",
    "\n",
    "            # Out of the remaining character, if the character is not a period.\n",
    "            if character != \".\":\n",
    "\n",
    "                # All characters left are symbols, so for all symbols.\n",
    "                for symbol in character:\n",
    "\n",
    "                    # If the symbol is not in the symbol_list.\n",
    "                    if symbol not in symbol_list:\n",
    "\n",
    "                        # Add the symbol to symbol_list.\n",
    "                        symbol_list.append(symbol)\n",
    "\n",
    "\n",
    "# Print the final symbol list in case it's needed later.\n",
    "print(\"_______________________________________________________________________\")\n",
    "print(symbol_list)\n",
    "print(f\"There seem to be {len(symbol_list)} symbols to look out for in the data (shown above).\")\n",
    "print(\"-----------------------------------------------------------------------\")"
   ]
  },
  {
   "cell_type": "code",
   "execution_count": null,
   "metadata": {},
   "outputs": [],
   "source": []
  }
 ],
 "metadata": {
  "kernelspec": {
   "display_name": "base",
   "language": "python",
   "name": "python3"
  },
  "language_info": {
   "codemirror_mode": {
    "name": "ipython",
    "version": 3
   },
   "file_extension": ".py",
   "mimetype": "text/x-python",
   "name": "python",
   "nbconvert_exporter": "python",
   "pygments_lexer": "ipython3",
   "version": "3.9.12"
  }
 },
 "nbformat": 4,
 "nbformat_minor": 2
}
